{
  "nbformat": 4,
  "nbformat_minor": 0,
  "metadata": {
    "colab": {
      "provenance": [],
      "gpuType": "T4",
      "authorship_tag": "ABX9TyMkDoDFjwZF5yDfcew7tK07",
      "include_colab_link": true
    },
    "kernelspec": {
      "name": "python3",
      "display_name": "Python 3"
    },
    "language_info": {
      "name": "python"
    },
    "accelerator": "GPU",
    "widgets": {
      "application/vnd.jupyter.widget-state+json": {
        "d96cedc92cea4de5bc4b4ea570a32cbc": {
          "model_module": "@jupyter-widgets/controls",
          "model_name": "HBoxModel",
          "model_module_version": "1.5.0",
          "state": {
            "_dom_classes": [],
            "_model_module": "@jupyter-widgets/controls",
            "_model_module_version": "1.5.0",
            "_model_name": "HBoxModel",
            "_view_count": null,
            "_view_module": "@jupyter-widgets/controls",
            "_view_module_version": "1.5.0",
            "_view_name": "HBoxView",
            "box_style": "",
            "children": [
              "IPY_MODEL_0d516ed07ced4181ad84d83e5342078d",
              "IPY_MODEL_c518e2aeebe74c98938140a45d7d2b0a",
              "IPY_MODEL_efcfdca69bf04c18aaf540297e9c3fd1"
            ],
            "layout": "IPY_MODEL_bd9997af842f490e941f62b4e032545e"
          }
        },
        "0d516ed07ced4181ad84d83e5342078d": {
          "model_module": "@jupyter-widgets/controls",
          "model_name": "HTMLModel",
          "model_module_version": "1.5.0",
          "state": {
            "_dom_classes": [],
            "_model_module": "@jupyter-widgets/controls",
            "_model_module_version": "1.5.0",
            "_model_name": "HTMLModel",
            "_view_count": null,
            "_view_module": "@jupyter-widgets/controls",
            "_view_module_version": "1.5.0",
            "_view_name": "HTMLView",
            "description": "",
            "description_tooltip": null,
            "layout": "IPY_MODEL_864bf26454c64c1099bc63e5d2225bb3",
            "placeholder": "​",
            "style": "IPY_MODEL_22272b0965f94a209fb7b9f5517da3c6",
            "value": "Loading checkpoint shards: 100%"
          }
        },
        "c518e2aeebe74c98938140a45d7d2b0a": {
          "model_module": "@jupyter-widgets/controls",
          "model_name": "FloatProgressModel",
          "model_module_version": "1.5.0",
          "state": {
            "_dom_classes": [],
            "_model_module": "@jupyter-widgets/controls",
            "_model_module_version": "1.5.0",
            "_model_name": "FloatProgressModel",
            "_view_count": null,
            "_view_module": "@jupyter-widgets/controls",
            "_view_module_version": "1.5.0",
            "_view_name": "ProgressView",
            "bar_style": "success",
            "description": "",
            "description_tooltip": null,
            "layout": "IPY_MODEL_8840ad409edb46f1aa3c7eb36a53cda8",
            "max": 3,
            "min": 0,
            "orientation": "horizontal",
            "style": "IPY_MODEL_ba6e57f09b78442b82818a3cabb9eb65",
            "value": 3
          }
        },
        "efcfdca69bf04c18aaf540297e9c3fd1": {
          "model_module": "@jupyter-widgets/controls",
          "model_name": "HTMLModel",
          "model_module_version": "1.5.0",
          "state": {
            "_dom_classes": [],
            "_model_module": "@jupyter-widgets/controls",
            "_model_module_version": "1.5.0",
            "_model_name": "HTMLModel",
            "_view_count": null,
            "_view_module": "@jupyter-widgets/controls",
            "_view_module_version": "1.5.0",
            "_view_name": "HTMLView",
            "description": "",
            "description_tooltip": null,
            "layout": "IPY_MODEL_96258126e90f49439976a929659a05c5",
            "placeholder": "​",
            "style": "IPY_MODEL_205e254f18d3469a8deffc7bb1d01538",
            "value": " 3/3 [01:23&lt;00:00, 27.04s/it]"
          }
        },
        "bd9997af842f490e941f62b4e032545e": {
          "model_module": "@jupyter-widgets/base",
          "model_name": "LayoutModel",
          "model_module_version": "1.2.0",
          "state": {
            "_model_module": "@jupyter-widgets/base",
            "_model_module_version": "1.2.0",
            "_model_name": "LayoutModel",
            "_view_count": null,
            "_view_module": "@jupyter-widgets/base",
            "_view_module_version": "1.2.0",
            "_view_name": "LayoutView",
            "align_content": null,
            "align_items": null,
            "align_self": null,
            "border": null,
            "bottom": null,
            "display": null,
            "flex": null,
            "flex_flow": null,
            "grid_area": null,
            "grid_auto_columns": null,
            "grid_auto_flow": null,
            "grid_auto_rows": null,
            "grid_column": null,
            "grid_gap": null,
            "grid_row": null,
            "grid_template_areas": null,
            "grid_template_columns": null,
            "grid_template_rows": null,
            "height": null,
            "justify_content": null,
            "justify_items": null,
            "left": null,
            "margin": null,
            "max_height": null,
            "max_width": null,
            "min_height": null,
            "min_width": null,
            "object_fit": null,
            "object_position": null,
            "order": null,
            "overflow": null,
            "overflow_x": null,
            "overflow_y": null,
            "padding": null,
            "right": null,
            "top": null,
            "visibility": null,
            "width": null
          }
        },
        "864bf26454c64c1099bc63e5d2225bb3": {
          "model_module": "@jupyter-widgets/base",
          "model_name": "LayoutModel",
          "model_module_version": "1.2.0",
          "state": {
            "_model_module": "@jupyter-widgets/base",
            "_model_module_version": "1.2.0",
            "_model_name": "LayoutModel",
            "_view_count": null,
            "_view_module": "@jupyter-widgets/base",
            "_view_module_version": "1.2.0",
            "_view_name": "LayoutView",
            "align_content": null,
            "align_items": null,
            "align_self": null,
            "border": null,
            "bottom": null,
            "display": null,
            "flex": null,
            "flex_flow": null,
            "grid_area": null,
            "grid_auto_columns": null,
            "grid_auto_flow": null,
            "grid_auto_rows": null,
            "grid_column": null,
            "grid_gap": null,
            "grid_row": null,
            "grid_template_areas": null,
            "grid_template_columns": null,
            "grid_template_rows": null,
            "height": null,
            "justify_content": null,
            "justify_items": null,
            "left": null,
            "margin": null,
            "max_height": null,
            "max_width": null,
            "min_height": null,
            "min_width": null,
            "object_fit": null,
            "object_position": null,
            "order": null,
            "overflow": null,
            "overflow_x": null,
            "overflow_y": null,
            "padding": null,
            "right": null,
            "top": null,
            "visibility": null,
            "width": null
          }
        },
        "22272b0965f94a209fb7b9f5517da3c6": {
          "model_module": "@jupyter-widgets/controls",
          "model_name": "DescriptionStyleModel",
          "model_module_version": "1.5.0",
          "state": {
            "_model_module": "@jupyter-widgets/controls",
            "_model_module_version": "1.5.0",
            "_model_name": "DescriptionStyleModel",
            "_view_count": null,
            "_view_module": "@jupyter-widgets/base",
            "_view_module_version": "1.2.0",
            "_view_name": "StyleView",
            "description_width": ""
          }
        },
        "8840ad409edb46f1aa3c7eb36a53cda8": {
          "model_module": "@jupyter-widgets/base",
          "model_name": "LayoutModel",
          "model_module_version": "1.2.0",
          "state": {
            "_model_module": "@jupyter-widgets/base",
            "_model_module_version": "1.2.0",
            "_model_name": "LayoutModel",
            "_view_count": null,
            "_view_module": "@jupyter-widgets/base",
            "_view_module_version": "1.2.0",
            "_view_name": "LayoutView",
            "align_content": null,
            "align_items": null,
            "align_self": null,
            "border": null,
            "bottom": null,
            "display": null,
            "flex": null,
            "flex_flow": null,
            "grid_area": null,
            "grid_auto_columns": null,
            "grid_auto_flow": null,
            "grid_auto_rows": null,
            "grid_column": null,
            "grid_gap": null,
            "grid_row": null,
            "grid_template_areas": null,
            "grid_template_columns": null,
            "grid_template_rows": null,
            "height": null,
            "justify_content": null,
            "justify_items": null,
            "left": null,
            "margin": null,
            "max_height": null,
            "max_width": null,
            "min_height": null,
            "min_width": null,
            "object_fit": null,
            "object_position": null,
            "order": null,
            "overflow": null,
            "overflow_x": null,
            "overflow_y": null,
            "padding": null,
            "right": null,
            "top": null,
            "visibility": null,
            "width": null
          }
        },
        "ba6e57f09b78442b82818a3cabb9eb65": {
          "model_module": "@jupyter-widgets/controls",
          "model_name": "ProgressStyleModel",
          "model_module_version": "1.5.0",
          "state": {
            "_model_module": "@jupyter-widgets/controls",
            "_model_module_version": "1.5.0",
            "_model_name": "ProgressStyleModel",
            "_view_count": null,
            "_view_module": "@jupyter-widgets/base",
            "_view_module_version": "1.2.0",
            "_view_name": "StyleView",
            "bar_color": null,
            "description_width": ""
          }
        },
        "96258126e90f49439976a929659a05c5": {
          "model_module": "@jupyter-widgets/base",
          "model_name": "LayoutModel",
          "model_module_version": "1.2.0",
          "state": {
            "_model_module": "@jupyter-widgets/base",
            "_model_module_version": "1.2.0",
            "_model_name": "LayoutModel",
            "_view_count": null,
            "_view_module": "@jupyter-widgets/base",
            "_view_module_version": "1.2.0",
            "_view_name": "LayoutView",
            "align_content": null,
            "align_items": null,
            "align_self": null,
            "border": null,
            "bottom": null,
            "display": null,
            "flex": null,
            "flex_flow": null,
            "grid_area": null,
            "grid_auto_columns": null,
            "grid_auto_flow": null,
            "grid_auto_rows": null,
            "grid_column": null,
            "grid_gap": null,
            "grid_row": null,
            "grid_template_areas": null,
            "grid_template_columns": null,
            "grid_template_rows": null,
            "height": null,
            "justify_content": null,
            "justify_items": null,
            "left": null,
            "margin": null,
            "max_height": null,
            "max_width": null,
            "min_height": null,
            "min_width": null,
            "object_fit": null,
            "object_position": null,
            "order": null,
            "overflow": null,
            "overflow_x": null,
            "overflow_y": null,
            "padding": null,
            "right": null,
            "top": null,
            "visibility": null,
            "width": null
          }
        },
        "205e254f18d3469a8deffc7bb1d01538": {
          "model_module": "@jupyter-widgets/controls",
          "model_name": "DescriptionStyleModel",
          "model_module_version": "1.5.0",
          "state": {
            "_model_module": "@jupyter-widgets/controls",
            "_model_module_version": "1.5.0",
            "_model_name": "DescriptionStyleModel",
            "_view_count": null,
            "_view_module": "@jupyter-widgets/base",
            "_view_module_version": "1.2.0",
            "_view_name": "StyleView",
            "description_width": ""
          }
        }
      }
    }
  },
  "cells": [
    {
      "cell_type": "markdown",
      "metadata": {
        "id": "view-in-github",
        "colab_type": "text"
      },
      "source": [
        "<a href=\"https://colab.research.google.com/github/yojuna/local_llm_RAG/blob/main/schrodinger_what_is_life_mistral_RAG.ipynb\" target=\"_parent\"><img src=\"https://colab.research.google.com/assets/colab-badge.svg\" alt=\"Open In Colab\"/></a>"
      ]
    },
    {
      "cell_type": "markdown",
      "source": [
        "Notebook running a local Mistral 7b Instruct Model, chained with Retrieval Augmented Generation (RAG), for conversing with the legendary collection of essays, in Erwin Schrödinger's What Is Life?"
      ],
      "metadata": {
        "id": "ZnPoOfBah3Ql"
      }
    },
    {
      "cell_type": "code",
      "execution_count": 1,
      "metadata": {
        "id": "GjfhKYMWESnE"
      },
      "outputs": [],
      "source": [
        "# colab autoreload\n",
        "\n",
        "%load_ext autoreload\n",
        "%autoreload 2"
      ]
    },
    {
      "cell_type": "code",
      "source": [
        "## Installation/setup\n",
        "\n",
        "# Reading in PDF Files\n",
        "!pip install -q -U pypdf\n",
        "# Setting Up Vector Store\n",
        "!pip install -q -U chromadb\n",
        "# Using Llama-7b-GPTQ LLM model in HuggingFace\n",
        "!pip install q -U torch auto-gptq transformers optimum\n",
        "# LangChain - Loading PDFs, Text Chunking, BGE Embeddings, Retrieval QA Chain\n",
        "!pip install -q -U langchain sentence_transformers\n",
        "\n",
        "!pip install -q -U torch datasets transformers tensorflow langchain playwright html2text sentence_transformers faiss-cpu\n",
        "!pip install -q accelerate==0.21.0 peft==0.4.0 bitsandbytes==0.40.2 trl==0.4.7"
      ],
      "metadata": {
        "id": "IEH5OwbfEjRJ"
      },
      "execution_count": null,
      "outputs": []
    },
    {
      "cell_type": "code",
      "source": [
        "import os\n",
        "\n",
        "# Import torch\n",
        "import torch\n",
        "\n",
        "# Import for loading PDFs from Google Drive.\n",
        "# Note: Not needed if GDrive is already mounted or we are using wget to get files from Web.\n",
        "# from google.colab import drive\n",
        "\n",
        "# Imports for LLM\n",
        "from transformers import (\n",
        "    AutoModelForCausalLM,\n",
        "    AutoTokenizer,\n",
        "    BitsAndBytesConfig,\n",
        "    pipeline\n",
        ")\n",
        "\n",
        "from langchain.llms import HuggingFacePipeline\n",
        "# from langchain import PromptTemplate  #, LLMChain\n",
        "from langchain.prompts import PromptTemplate\n",
        "from langchain.schema.runnable import RunnablePassthrough\n",
        "\n",
        "# Imports to read PDFs and other types of documents\n",
        "from langchain.document_loaders import PyPDFLoader, DirectoryLoader\n",
        "from langchain.text_splitter import RecursiveCharacterTextSplitter\n",
        "from langchain.text_splitter import CharacterTextSplitter\n",
        "from langchain.document_transformers import Html2TextTransformer\n",
        "from langchain.document_loaders import AsyncChromiumLoader\n",
        "\n",
        "from peft import LoraConfig, PeftModel\n",
        "\n",
        "## vector stores: Chroma and FAISS\n",
        "from langchain.vectorstores import Chroma\n",
        "from langchain.vectorstores import FAISS\n",
        "\n",
        "# Import the embeddings\n",
        "from langchain.embeddings import HuggingFaceBgeEmbeddings\n",
        "\n",
        "# Imports for QA Retrieval Chain\n",
        "from langchain.chains import RetrievalQA\n",
        "\n",
        "# Import to Clenup LLM Output\n",
        "import textwrap\n",
        "from pprint import pprint"
      ],
      "metadata": {
        "id": "vdb-v0EuW-yS"
      },
      "execution_count": 3,
      "outputs": []
    },
    {
      "cell_type": "code",
      "source": [
        "# import os\n",
        "# import torch\n",
        "# from transformers import (\n",
        "#     AutoModelForCausalLM,\n",
        "#     AutoTokenizer,\n",
        "#     BitsAndBytesConfig,\n",
        "#     pipeline\n",
        "# )\n",
        "# from datasets import load_dataset\n",
        "# from peft import LoraConfig, PeftModel\n",
        "\n",
        "# from langchain.text_splitter import CharacterTextSplitter\n",
        "# from langchain.document_transformers import Html2TextTransformer\n",
        "# from langchain.document_loaders import AsyncChromiumLoader\n",
        "\n",
        "# from langchain.embeddings.huggingface import HuggingFaceEmbeddings\n",
        "# from langchain.vectorstores import FAISS\n",
        "\n",
        "# # Imports to read PDF and setup Chroma Vector Store\n",
        "# from langchain.document_loaders import PyPDFLoader, DirectoryLoader\n",
        "# from langchain.vectorstores import Chroma\n",
        "# from langchain.text_splitter import RecursiveCharacterTextSplitter\n",
        "\n",
        "# from langchain.prompts import PromptTemplate\n",
        "# from langchain.schema.runnable import RunnablePassthrough\n",
        "# from langchain.llms import HuggingFacePipeline"
      ],
      "metadata": {
        "id": "r7bifYAlEjJs"
      },
      "execution_count": 5,
      "outputs": []
    },
    {
      "cell_type": "markdown",
      "source": [
        "## Setup the LLM"
      ],
      "metadata": {
        "id": "c1WoEU6ogeEH"
      }
    },
    {
      "cell_type": "code",
      "source": [
        "#################################################################\n",
        "# The Model Id\n",
        "#################################################################\n",
        "\n",
        "model_name='mistralai/Mistral-7B-Instruct-v0.2'"
      ],
      "metadata": {
        "id": "Fmkl8z5a2M9y"
      },
      "execution_count": 5,
      "outputs": []
    },
    {
      "cell_type": "code",
      "source": [
        "#################################################################\n",
        "# Tokenizer\n",
        "#################################################################\n",
        "\n",
        "tokenizer = AutoTokenizer.from_pretrained(model_name, trust_remote_code=True)\n",
        "tokenizer.pad_token = tokenizer.eos_token\n",
        "tokenizer.padding_side = \"right\"\n",
        "\n",
        "#################################################################\n",
        "# bitsandbytes parameters\n",
        "#################################################################\n",
        "\n",
        "# Activate 4-bit precision base model loading\n",
        "use_4bit = True\n",
        "\n",
        "# Compute dtype for 4-bit base models\n",
        "bnb_4bit_compute_dtype = \"float16\"\n",
        "\n",
        "# Quantization type (fp4 or nf4)\n",
        "bnb_4bit_quant_type = \"nf4\"\n",
        "\n",
        "# Activate nested quantization for 4-bit base models (double quantization)\n",
        "use_nested_quant = False\n",
        "\n",
        "#################################################################\n",
        "# Set up quantization config\n",
        "#################################################################\n",
        "compute_dtype = getattr(torch, bnb_4bit_compute_dtype)\n",
        "\n",
        "bnb_config = BitsAndBytesConfig(\n",
        "    load_in_4bit=use_4bit,\n",
        "    bnb_4bit_quant_type=bnb_4bit_quant_type,\n",
        "    bnb_4bit_compute_dtype=compute_dtype,\n",
        "    bnb_4bit_use_double_quant=use_nested_quant,\n",
        ")\n",
        "\n",
        "# Check GPU compatibility with bfloat16\n",
        "if compute_dtype == torch.float16 and use_4bit:\n",
        "    major, _ = torch.cuda.get_device_capability()\n",
        "    if major >= 8:\n",
        "        print(\"=\" * 80)\n",
        "        print(\"Your GPU supports bfloat16: accelerate training with bf16=True\")\n",
        "        print(\"=\" * 80)\n",
        "\n",
        "#################################################################\n",
        "# Load pre-trained config\n",
        "#################################################################\n",
        "mistral_model = AutoModelForCausalLM.from_pretrained(\n",
        "    model_name,\n",
        "    quantization_config=bnb_config,\n",
        ")"
      ],
      "metadata": {
        "colab": {
          "base_uri": "https://localhost:8080/",
          "height": 173,
          "referenced_widgets": [
            "d96cedc92cea4de5bc4b4ea570a32cbc",
            "0d516ed07ced4181ad84d83e5342078d",
            "c518e2aeebe74c98938140a45d7d2b0a",
            "efcfdca69bf04c18aaf540297e9c3fd1",
            "bd9997af842f490e941f62b4e032545e",
            "864bf26454c64c1099bc63e5d2225bb3",
            "22272b0965f94a209fb7b9f5517da3c6",
            "8840ad409edb46f1aa3c7eb36a53cda8",
            "ba6e57f09b78442b82818a3cabb9eb65",
            "96258126e90f49439976a929659a05c5",
            "205e254f18d3469a8deffc7bb1d01538"
          ]
        },
        "id": "MZph5n_uEjDp",
        "outputId": "a5be9a87-7522-4262-c6aa-4d8eac25f920"
      },
      "execution_count": 6,
      "outputs": [
        {
          "output_type": "stream",
          "name": "stderr",
          "text": [
            "/usr/local/lib/python3.10/dist-packages/huggingface_hub/utils/_token.py:88: UserWarning: \n",
            "The secret `HF_TOKEN` does not exist in your Colab secrets.\n",
            "To authenticate with the Hugging Face Hub, create a token in your settings tab (https://huggingface.co/settings/tokens), set it as secret in your Google Colab and restart your session.\n",
            "You will be able to reuse this secret in all of your notebooks.\n",
            "Please note that authentication is recommended but still optional to access public models or datasets.\n",
            "  warnings.warn(\n"
          ]
        },
        {
          "output_type": "display_data",
          "data": {
            "text/plain": [
              "Loading checkpoint shards:   0%|          | 0/3 [00:00<?, ?it/s]"
            ],
            "application/vnd.jupyter.widget-view+json": {
              "version_major": 2,
              "version_minor": 0,
              "model_id": "d96cedc92cea4de5bc4b4ea570a32cbc"
            }
          },
          "metadata": {}
        }
      ]
    },
    {
      "cell_type": "code",
      "source": [
        "# check the number of trainable parameters\n",
        "\n",
        "def print_number_of_trainable_model_parameters(model):\n",
        "    trainable_model_params = 0\n",
        "    all_model_params = 0\n",
        "    for _, param in model.named_parameters():\n",
        "        all_model_params += param.numel()\n",
        "        if param.requires_grad:\n",
        "            trainable_model_params += param.numel()\n",
        "    return f\"trainable model parameters: {trainable_model_params}\\nall model parameters: {all_model_params}\\npercentage of trainable model parameters: {100 * trainable_model_params / all_model_params:.2f}%\"\n",
        "\n",
        "print(print_number_of_trainable_model_parameters(mistral_model))"
      ],
      "metadata": {
        "colab": {
          "base_uri": "https://localhost:8080/"
        },
        "id": "1M9Ow1lKEi50",
        "outputId": "5176861d-d3e5-4825-cf0c-da34308dca1d"
      },
      "execution_count": 8,
      "outputs": [
        {
          "output_type": "stream",
          "name": "stdout",
          "text": [
            "trainable model parameters: 262410240\n",
            "all model parameters: 3752071168\n",
            "percentage of trainable model parameters: 6.99%\n"
          ]
        }
      ]
    },
    {
      "cell_type": "code",
      "source": [
        "# setup the LLM pipelines\n",
        "\n",
        "standalone_query_generation_pipeline = pipeline(\n",
        " model=mistral_model,\n",
        " tokenizer=tokenizer,\n",
        " task=\"text-generation\",\n",
        " temperature=0.0,\n",
        " repetition_penalty=1.1,\n",
        " return_full_text=True,\n",
        " max_new_tokens=1000,\n",
        ")\n",
        "standalone_query_generation_llm = HuggingFacePipeline(pipeline=standalone_query_generation_pipeline)\n",
        "\n",
        "response_generation_pipeline = pipeline(\n",
        " model=mistral_model,\n",
        " tokenizer=tokenizer,\n",
        " task=\"text-generation\",\n",
        " temperature=0.2,\n",
        " repetition_penalty=1.1,\n",
        " return_full_text=True,\n",
        " max_new_tokens=1000,\n",
        ")\n",
        "response_generation_llm = HuggingFacePipeline(pipeline=response_generation_pipeline)"
      ],
      "metadata": {
        "id": "EIHdrtj0FEgR"
      },
      "execution_count": 9,
      "outputs": []
    },
    {
      "cell_type": "code",
      "source": [],
      "metadata": {
        "id": "l-PcGJG4FEb9"
      },
      "execution_count": null,
      "outputs": []
    },
    {
      "cell_type": "markdown",
      "source": [
        "## Get the documents/ data"
      ],
      "metadata": {
        "id": "ZwWUoAZ2ghvZ"
      }
    },
    {
      "cell_type": "code",
      "source": [
        "# Get the Document / Textbook\n",
        "\n",
        "## Need to run only once\n",
        "\n",
        "# ## Feynman lectures on physics\n",
        "# ## note: ^^ this pdf does not have extractable text for the whole textbook; need to use an OCR version\n",
        "\n",
        "! mkdir -p docs\n",
        "\n",
        "! wget https://archive.org/download/feynman-lectures-on-physics-volumes-1-2-3-feynman-leighton-and-sands/Feynman%20Lectures%20on%20Physics%20Volumes%201%2C2%2C3%20-%20Feynman%2C%20Leighton%20and%20Sands.pdf -O docs/archive-feynman-lectures.pdf\n",
        "# or # ! wget https://antilogicalism.com/wp-content/uploads/2018/04/feynman-lectures.pdf -O docs/feynman-lectures.pdf\n",
        "\n",
        "! wget http://strangebeautiful.com/other-texts/schrodinger-what-is-life-mind-matter-auto-sketches.pdf -O docs/what-is-life.pdf\n",
        "\n",
        "## add more .pdf files to the docs folder as needed"
      ],
      "metadata": {
        "colab": {
          "base_uri": "https://localhost:8080/"
        },
        "id": "vpgyLbO4Xtm_",
        "outputId": "04c9d627-d9e3-44da-f552-62b3aa5cadad"
      },
      "execution_count": 11,
      "outputs": [
        {
          "output_type": "stream",
          "name": "stdout",
          "text": [
            "--2024-01-29 20:16:03--  https://archive.org/download/feynman-lectures-on-physics-volumes-1-2-3-feynman-leighton-and-sands/Feynman%20Lectures%20on%20Physics%20Volumes%201%2C2%2C3%20-%20Feynman%2C%20Leighton%20and%20Sands.pdf\n",
            "Resolving archive.org (archive.org)... 207.241.224.2\n",
            "Connecting to archive.org (archive.org)|207.241.224.2|:443... connected.\n",
            "HTTP request sent, awaiting response... 302 Found\n",
            "Location: https://ia802508.us.archive.org/29/items/feynman-lectures-on-physics-volumes-1-2-3-feynman-leighton-and-sands/Feynman%20Lectures%20on%20Physics%20Volumes%201%2C2%2C3%20-%20Feynman%2C%20Leighton%20and%20Sands.pdf [following]\n",
            "--2024-01-29 20:16:03--  https://ia802508.us.archive.org/29/items/feynman-lectures-on-physics-volumes-1-2-3-feynman-leighton-and-sands/Feynman%20Lectures%20on%20Physics%20Volumes%201%2C2%2C3%20-%20Feynman%2C%20Leighton%20and%20Sands.pdf\n",
            "Resolving ia802508.us.archive.org (ia802508.us.archive.org)... 207.241.228.198\n",
            "Connecting to ia802508.us.archive.org (ia802508.us.archive.org)|207.241.228.198|:443... connected.\n",
            "HTTP request sent, awaiting response... 200 OK\n",
            "Length: 87275502 (83M) [application/pdf]\n",
            "Saving to: ‘docs/archive-feynman-lectures.pdf’\n",
            "\n",
            "docs/archive-feynma 100%[===================>]  83.23M  2.83MB/s    in 23s     \n",
            "\n",
            "2024-01-29 20:16:27 (3.59 MB/s) - ‘docs/archive-feynman-lectures.pdf’ saved [87275502/87275502]\n",
            "\n",
            "--2024-01-29 20:16:27--  http://strangebeautiful.com/other-texts/schrodinger-what-is-life-mind-matter-auto-sketches.pdf\n",
            "Resolving strangebeautiful.com (strangebeautiful.com)... 145.14.158.30\n",
            "Connecting to strangebeautiful.com (strangebeautiful.com)|145.14.158.30|:80... connected.\n",
            "HTTP request sent, awaiting response... 200 OK\n",
            "Length: 8726575 (8.3M) [application/pdf]\n",
            "Saving to: ‘docs/what-is-life.pdf’\n",
            "\n",
            "docs/what-is-life.p 100%[===================>]   8.32M  6.27MB/s    in 1.3s    \n",
            "\n",
            "2024-01-29 20:16:28 (6.27 MB/s) - ‘docs/what-is-life.pdf’ saved [8726575/8726575]\n",
            "\n"
          ]
        }
      ]
    },
    {
      "cell_type": "code",
      "source": [
        "# load document from directory\n",
        "loader = DirectoryLoader('docs/', glob=\"./*.pdf\", loader_cls=PyPDFLoader)\n",
        "\n",
        "documents = loader.load()"
      ],
      "metadata": {
        "id": "nVCgX5YgX0HY"
      },
      "execution_count": 12,
      "outputs": []
    },
    {
      "cell_type": "code",
      "source": [
        "# number of pages in the pdfs\n",
        "len(documents)"
      ],
      "metadata": {
        "colab": {
          "base_uri": "https://localhost:8080/"
        },
        "id": "tCdoDIB3a7ya",
        "outputId": "799f9890-14e3-4d84-a6b5-be631c98ecca"
      },
      "execution_count": 13,
      "outputs": [
        {
          "output_type": "execute_result",
          "data": {
            "text/plain": [
              "1572"
            ]
          },
          "metadata": {},
          "execution_count": 13
        }
      ]
    },
    {
      "cell_type": "code",
      "source": [
        "# LLM Token Chunksize varies based on Context Window. LLaMA2 Context Window is 4096 tokens.\n",
        "# For QA want to pick larger chunk size with some overlap to get context.\n",
        "CHUNK_SIZE, CHUNK_OVERLAP = 1000, 200\n",
        "\n",
        "\n",
        "text_splitter = RecursiveCharacterTextSplitter(chunk_size=CHUNK_SIZE,\n",
        "                                               chunk_overlap=CHUNK_OVERLAP)\n",
        "texts = text_splitter.split_documents(documents)\n",
        "\n",
        "len(texts)"
      ],
      "metadata": {
        "colab": {
          "base_uri": "https://localhost:8080/"
        },
        "id": "pu4xRsCbX0AE",
        "outputId": "b5689c59-1d13-48fa-fa42-0033f25a37ae"
      },
      "execution_count": 14,
      "outputs": [
        {
          "output_type": "execute_result",
          "data": {
            "text/plain": [
              "764"
            ]
          },
          "metadata": {},
          "execution_count": 14
        }
      ]
    },
    {
      "cell_type": "code",
      "source": [
        "# random sample\n",
        "\n",
        "text_ID = 700\n",
        "texts[text_ID]"
      ],
      "metadata": {
        "colab": {
          "base_uri": "https://localhost:8080/"
        },
        "id": "5I3Bx80kb4c5",
        "outputId": "2a9cd9a4-4e55-45b7-b55f-b8a131e1432e"
      },
      "execution_count": 15,
      "outputs": [
        {
          "output_type": "execute_result",
          "data": {
            "text/plain": [
              "Document(page_content='MindandMatter\\n(notably intheZeeman andStarkeffects)someofthespectral\\nlinesarepolarized. Tocomplete thephysical description in\\nthisrespect, inwhichthehumaneyeisentirely insensitive,\\nyouputapolarizer (aNicolprism)inthepathofthebeam,\\nbeforedecomposing it;onslowlyrotating theNicolaroundits\\naxiscertain linesareextinguished orreduced tominimal\\nbrightness forcertainorientations oftheNicol,whichindicate\\nthedirection (orthogonal tothebeam)oftheirtotalorpartial\\npolariza tion.\\nOncethiswholetechnique isdeveloped, itcanbeextended\\nfarbeyond thevisibleregion.Thespectral linesofglowing\\nvapours arebynomeansrestricted tothevisibleregion,which\\nisnotdistinguished physically. Thelinesformlong,theoret\\xad\\nicallyinfinite series.Thewave-lengths ofeachseriesare\\nconnected byarelatively simplemathematical law,peculiar\\ntoit,thatholdsuniformly throughout theserieswithno\\ndistinctionofthatpartoftheseriesthathappens tolieinthe\\nvisibleregion.Theseseriallawswerefirstfoundempirically,', metadata={'source': 'docs/what-is-life.pdf', 'page': 172})"
            ]
          },
          "metadata": {},
          "execution_count": 15
        }
      ]
    },
    {
      "cell_type": "markdown",
      "source": [
        "### Alternative Data sources"
      ],
      "metadata": {
        "id": "iSJt58zavfhS"
      }
    },
    {
      "cell_type": "markdown",
      "source": [
        "#### Alternative: Extract data from News APIs"
      ],
      "metadata": {
        "id": "pI_Eic0zv0R4"
      }
    },
    {
      "cell_type": "code",
      "source": [
        "## Optional: If extracting News data using Google News API\n",
        "# google news api\n",
        "\n",
        "!pip install GoogleNews\n",
        "!pip install newspaper3k"
      ],
      "metadata": {
        "id": "pFfwYHgyK0PC"
      },
      "execution_count": null,
      "outputs": []
    },
    {
      "cell_type": "code",
      "source": [
        "from GoogleNews import GoogleNews\n",
        "from newspaper import Article\n",
        "import pandas as pd"
      ],
      "metadata": {
        "id": "dKV5aZa_K-HS"
      },
      "execution_count": 17,
      "outputs": []
    },
    {
      "cell_type": "code",
      "source": [
        "START_DATE = '05/01/2024'\n",
        "END_DATE = '28/01/2024'\n",
        "\n",
        "SEARCH_TERM = 'Finance'\n",
        "\n",
        "googlenews = GoogleNews(start=START_DATE, end=END_DATE)\n",
        "googlenews.search(SEARCH_TERM)\n",
        "\n",
        "result = googlenews.result()\n",
        "\n",
        "# save a dataframe with the results and display top rows\n",
        "df = pd.DataFrame(result)\n",
        "df.head()"
      ],
      "metadata": {
        "id": "yC3bG3A0K-A4",
        "colab": {
          "base_uri": "https://localhost:8080/",
          "height": 293
        },
        "outputId": "9e1130af-c1ef-4d54-f451-605d8d5df71c"
      },
      "execution_count": 19,
      "outputs": [
        {
          "output_type": "execute_result",
          "data": {
            "text/plain": [
              "                                               title             media  \\\n",
              "0  Stock market today: US stocks drift higher to ...     Yahoo Finance   \n",
              "1  panel urges Treasury Dept to make tech firms c...     Yahoo Finance   \n",
              "2  January jobs report: One thing that may be pro...     Yahoo Finance   \n",
              "3  Finance & Restructuring Partner Jeremy Finkels...  The Joplin Globe   \n",
              "4  Oil drops with OPEC+ output steady, traders aw...     Yahoo Finance   \n",
              "\n",
              "         date                   datetime desc  \\\n",
              "0  0 mins ago 2024-01-29 20:21:33.762034        \n",
              "1  0 mins ago 2024-01-29 20:21:33.765791        \n",
              "2  5 mins ago 2024-01-29 20:16:33.768993        \n",
              "3  1 hour ago 2024-01-29 19:21:33.785958        \n",
              "4  1 hour ago 2024-01-29 19:21:33.803468        \n",
              "\n",
              "                                                link  \\\n",
              "0  https://finance.yahoo.com/news/stock-market-to...   \n",
              "1  https://finance.yahoo.com/news/panel-urges-tre...   \n",
              "2  https://finance.yahoo.com/video/january-jobs-r...   \n",
              "3  https://www.joplinglobe.com/region/national_bu...   \n",
              "4  https://finance.yahoo.com/news/oil-jumps-attac...   \n",
              "\n",
              "                                                 img  \n",
              "0  data:image/gif;base64,R0lGODlhAQABAIAAAP//////...  \n",
              "1  data:image/gif;base64,R0lGODlhAQABAIAAAP//////...  \n",
              "2  data:image/gif;base64,R0lGODlhAQABAIAAAP//////...  \n",
              "3  data:image/gif;base64,R0lGODlhAQABAIAAAP//////...  \n",
              "4  data:image/gif;base64,R0lGODlhAQABAIAAAP//////...  "
            ],
            "text/html": [
              "\n",
              "  <div id=\"df-a00386a4-61dc-44a4-920d-14dc22a7c0a8\" class=\"colab-df-container\">\n",
              "    <div>\n",
              "<style scoped>\n",
              "    .dataframe tbody tr th:only-of-type {\n",
              "        vertical-align: middle;\n",
              "    }\n",
              "\n",
              "    .dataframe tbody tr th {\n",
              "        vertical-align: top;\n",
              "    }\n",
              "\n",
              "    .dataframe thead th {\n",
              "        text-align: right;\n",
              "    }\n",
              "</style>\n",
              "<table border=\"1\" class=\"dataframe\">\n",
              "  <thead>\n",
              "    <tr style=\"text-align: right;\">\n",
              "      <th></th>\n",
              "      <th>title</th>\n",
              "      <th>media</th>\n",
              "      <th>date</th>\n",
              "      <th>datetime</th>\n",
              "      <th>desc</th>\n",
              "      <th>link</th>\n",
              "      <th>img</th>\n",
              "    </tr>\n",
              "  </thead>\n",
              "  <tbody>\n",
              "    <tr>\n",
              "      <th>0</th>\n",
              "      <td>Stock market today: US stocks drift higher to ...</td>\n",
              "      <td>Yahoo Finance</td>\n",
              "      <td>0 mins ago</td>\n",
              "      <td>2024-01-29 20:21:33.762034</td>\n",
              "      <td></td>\n",
              "      <td>https://finance.yahoo.com/news/stock-market-to...</td>\n",
              "      <td>data:image/gif;base64,R0lGODlhAQABAIAAAP//////...</td>\n",
              "    </tr>\n",
              "    <tr>\n",
              "      <th>1</th>\n",
              "      <td>panel urges Treasury Dept to make tech firms c...</td>\n",
              "      <td>Yahoo Finance</td>\n",
              "      <td>0 mins ago</td>\n",
              "      <td>2024-01-29 20:21:33.765791</td>\n",
              "      <td></td>\n",
              "      <td>https://finance.yahoo.com/news/panel-urges-tre...</td>\n",
              "      <td>data:image/gif;base64,R0lGODlhAQABAIAAAP//////...</td>\n",
              "    </tr>\n",
              "    <tr>\n",
              "      <th>2</th>\n",
              "      <td>January jobs report: One thing that may be pro...</td>\n",
              "      <td>Yahoo Finance</td>\n",
              "      <td>5 mins ago</td>\n",
              "      <td>2024-01-29 20:16:33.768993</td>\n",
              "      <td></td>\n",
              "      <td>https://finance.yahoo.com/video/january-jobs-r...</td>\n",
              "      <td>data:image/gif;base64,R0lGODlhAQABAIAAAP//////...</td>\n",
              "    </tr>\n",
              "    <tr>\n",
              "      <th>3</th>\n",
              "      <td>Finance &amp; Restructuring Partner Jeremy Finkels...</td>\n",
              "      <td>The Joplin Globe</td>\n",
              "      <td>1 hour ago</td>\n",
              "      <td>2024-01-29 19:21:33.785958</td>\n",
              "      <td></td>\n",
              "      <td>https://www.joplinglobe.com/region/national_bu...</td>\n",
              "      <td>data:image/gif;base64,R0lGODlhAQABAIAAAP//////...</td>\n",
              "    </tr>\n",
              "    <tr>\n",
              "      <th>4</th>\n",
              "      <td>Oil drops with OPEC+ output steady, traders aw...</td>\n",
              "      <td>Yahoo Finance</td>\n",
              "      <td>1 hour ago</td>\n",
              "      <td>2024-01-29 19:21:33.803468</td>\n",
              "      <td></td>\n",
              "      <td>https://finance.yahoo.com/news/oil-jumps-attac...</td>\n",
              "      <td>data:image/gif;base64,R0lGODlhAQABAIAAAP//////...</td>\n",
              "    </tr>\n",
              "  </tbody>\n",
              "</table>\n",
              "</div>\n",
              "    <div class=\"colab-df-buttons\">\n",
              "\n",
              "  <div class=\"colab-df-container\">\n",
              "    <button class=\"colab-df-convert\" onclick=\"convertToInteractive('df-a00386a4-61dc-44a4-920d-14dc22a7c0a8')\"\n",
              "            title=\"Convert this dataframe to an interactive table.\"\n",
              "            style=\"display:none;\">\n",
              "\n",
              "  <svg xmlns=\"http://www.w3.org/2000/svg\" height=\"24px\" viewBox=\"0 -960 960 960\">\n",
              "    <path d=\"M120-120v-720h720v720H120Zm60-500h600v-160H180v160Zm220 220h160v-160H400v160Zm0 220h160v-160H400v160ZM180-400h160v-160H180v160Zm440 0h160v-160H620v160ZM180-180h160v-160H180v160Zm440 0h160v-160H620v160Z\"/>\n",
              "  </svg>\n",
              "    </button>\n",
              "\n",
              "  <style>\n",
              "    .colab-df-container {\n",
              "      display:flex;\n",
              "      gap: 12px;\n",
              "    }\n",
              "\n",
              "    .colab-df-convert {\n",
              "      background-color: #E8F0FE;\n",
              "      border: none;\n",
              "      border-radius: 50%;\n",
              "      cursor: pointer;\n",
              "      display: none;\n",
              "      fill: #1967D2;\n",
              "      height: 32px;\n",
              "      padding: 0 0 0 0;\n",
              "      width: 32px;\n",
              "    }\n",
              "\n",
              "    .colab-df-convert:hover {\n",
              "      background-color: #E2EBFA;\n",
              "      box-shadow: 0px 1px 2px rgba(60, 64, 67, 0.3), 0px 1px 3px 1px rgba(60, 64, 67, 0.15);\n",
              "      fill: #174EA6;\n",
              "    }\n",
              "\n",
              "    .colab-df-buttons div {\n",
              "      margin-bottom: 4px;\n",
              "    }\n",
              "\n",
              "    [theme=dark] .colab-df-convert {\n",
              "      background-color: #3B4455;\n",
              "      fill: #D2E3FC;\n",
              "    }\n",
              "\n",
              "    [theme=dark] .colab-df-convert:hover {\n",
              "      background-color: #434B5C;\n",
              "      box-shadow: 0px 1px 3px 1px rgba(0, 0, 0, 0.15);\n",
              "      filter: drop-shadow(0px 1px 2px rgba(0, 0, 0, 0.3));\n",
              "      fill: #FFFFFF;\n",
              "    }\n",
              "  </style>\n",
              "\n",
              "    <script>\n",
              "      const buttonEl =\n",
              "        document.querySelector('#df-a00386a4-61dc-44a4-920d-14dc22a7c0a8 button.colab-df-convert');\n",
              "      buttonEl.style.display =\n",
              "        google.colab.kernel.accessAllowed ? 'block' : 'none';\n",
              "\n",
              "      async function convertToInteractive(key) {\n",
              "        const element = document.querySelector('#df-a00386a4-61dc-44a4-920d-14dc22a7c0a8');\n",
              "        const dataTable =\n",
              "          await google.colab.kernel.invokeFunction('convertToInteractive',\n",
              "                                                    [key], {});\n",
              "        if (!dataTable) return;\n",
              "\n",
              "        const docLinkHtml = 'Like what you see? Visit the ' +\n",
              "          '<a target=\"_blank\" href=https://colab.research.google.com/notebooks/data_table.ipynb>data table notebook</a>'\n",
              "          + ' to learn more about interactive tables.';\n",
              "        element.innerHTML = '';\n",
              "        dataTable['output_type'] = 'display_data';\n",
              "        await google.colab.output.renderOutput(dataTable, element);\n",
              "        const docLink = document.createElement('div');\n",
              "        docLink.innerHTML = docLinkHtml;\n",
              "        element.appendChild(docLink);\n",
              "      }\n",
              "    </script>\n",
              "  </div>\n",
              "\n",
              "\n",
              "<div id=\"df-d533b5e4-4960-4734-b6e3-02439b84a0d9\">\n",
              "  <button class=\"colab-df-quickchart\" onclick=\"quickchart('df-d533b5e4-4960-4734-b6e3-02439b84a0d9')\"\n",
              "            title=\"Suggest charts\"\n",
              "            style=\"display:none;\">\n",
              "\n",
              "<svg xmlns=\"http://www.w3.org/2000/svg\" height=\"24px\"viewBox=\"0 0 24 24\"\n",
              "     width=\"24px\">\n",
              "    <g>\n",
              "        <path d=\"M19 3H5c-1.1 0-2 .9-2 2v14c0 1.1.9 2 2 2h14c1.1 0 2-.9 2-2V5c0-1.1-.9-2-2-2zM9 17H7v-7h2v7zm4 0h-2V7h2v10zm4 0h-2v-4h2v4z\"/>\n",
              "    </g>\n",
              "</svg>\n",
              "  </button>\n",
              "\n",
              "<style>\n",
              "  .colab-df-quickchart {\n",
              "      --bg-color: #E8F0FE;\n",
              "      --fill-color: #1967D2;\n",
              "      --hover-bg-color: #E2EBFA;\n",
              "      --hover-fill-color: #174EA6;\n",
              "      --disabled-fill-color: #AAA;\n",
              "      --disabled-bg-color: #DDD;\n",
              "  }\n",
              "\n",
              "  [theme=dark] .colab-df-quickchart {\n",
              "      --bg-color: #3B4455;\n",
              "      --fill-color: #D2E3FC;\n",
              "      --hover-bg-color: #434B5C;\n",
              "      --hover-fill-color: #FFFFFF;\n",
              "      --disabled-bg-color: #3B4455;\n",
              "      --disabled-fill-color: #666;\n",
              "  }\n",
              "\n",
              "  .colab-df-quickchart {\n",
              "    background-color: var(--bg-color);\n",
              "    border: none;\n",
              "    border-radius: 50%;\n",
              "    cursor: pointer;\n",
              "    display: none;\n",
              "    fill: var(--fill-color);\n",
              "    height: 32px;\n",
              "    padding: 0;\n",
              "    width: 32px;\n",
              "  }\n",
              "\n",
              "  .colab-df-quickchart:hover {\n",
              "    background-color: var(--hover-bg-color);\n",
              "    box-shadow: 0 1px 2px rgba(60, 64, 67, 0.3), 0 1px 3px 1px rgba(60, 64, 67, 0.15);\n",
              "    fill: var(--button-hover-fill-color);\n",
              "  }\n",
              "\n",
              "  .colab-df-quickchart-complete:disabled,\n",
              "  .colab-df-quickchart-complete:disabled:hover {\n",
              "    background-color: var(--disabled-bg-color);\n",
              "    fill: var(--disabled-fill-color);\n",
              "    box-shadow: none;\n",
              "  }\n",
              "\n",
              "  .colab-df-spinner {\n",
              "    border: 2px solid var(--fill-color);\n",
              "    border-color: transparent;\n",
              "    border-bottom-color: var(--fill-color);\n",
              "    animation:\n",
              "      spin 1s steps(1) infinite;\n",
              "  }\n",
              "\n",
              "  @keyframes spin {\n",
              "    0% {\n",
              "      border-color: transparent;\n",
              "      border-bottom-color: var(--fill-color);\n",
              "      border-left-color: var(--fill-color);\n",
              "    }\n",
              "    20% {\n",
              "      border-color: transparent;\n",
              "      border-left-color: var(--fill-color);\n",
              "      border-top-color: var(--fill-color);\n",
              "    }\n",
              "    30% {\n",
              "      border-color: transparent;\n",
              "      border-left-color: var(--fill-color);\n",
              "      border-top-color: var(--fill-color);\n",
              "      border-right-color: var(--fill-color);\n",
              "    }\n",
              "    40% {\n",
              "      border-color: transparent;\n",
              "      border-right-color: var(--fill-color);\n",
              "      border-top-color: var(--fill-color);\n",
              "    }\n",
              "    60% {\n",
              "      border-color: transparent;\n",
              "      border-right-color: var(--fill-color);\n",
              "    }\n",
              "    80% {\n",
              "      border-color: transparent;\n",
              "      border-right-color: var(--fill-color);\n",
              "      border-bottom-color: var(--fill-color);\n",
              "    }\n",
              "    90% {\n",
              "      border-color: transparent;\n",
              "      border-bottom-color: var(--fill-color);\n",
              "    }\n",
              "  }\n",
              "</style>\n",
              "\n",
              "  <script>\n",
              "    async function quickchart(key) {\n",
              "      const quickchartButtonEl =\n",
              "        document.querySelector('#' + key + ' button');\n",
              "      quickchartButtonEl.disabled = true;  // To prevent multiple clicks.\n",
              "      quickchartButtonEl.classList.add('colab-df-spinner');\n",
              "      try {\n",
              "        const charts = await google.colab.kernel.invokeFunction(\n",
              "            'suggestCharts', [key], {});\n",
              "      } catch (error) {\n",
              "        console.error('Error during call to suggestCharts:', error);\n",
              "      }\n",
              "      quickchartButtonEl.classList.remove('colab-df-spinner');\n",
              "      quickchartButtonEl.classList.add('colab-df-quickchart-complete');\n",
              "    }\n",
              "    (() => {\n",
              "      let quickchartButtonEl =\n",
              "        document.querySelector('#df-d533b5e4-4960-4734-b6e3-02439b84a0d9 button');\n",
              "      quickchartButtonEl.style.display =\n",
              "        google.colab.kernel.accessAllowed ? 'block' : 'none';\n",
              "    })();\n",
              "  </script>\n",
              "</div>\n",
              "    </div>\n",
              "  </div>\n"
            ]
          },
          "metadata": {},
          "execution_count": 19
        }
      ]
    },
    {
      "cell_type": "code",
      "source": [
        "# can extract more articles from the API by looping through\n",
        "\n",
        "NUM_SEARCH_PAGES = 10\n",
        "\n",
        "for i in range(2, NUM_SEARCH_PAGES):\n",
        "    googlenews.getpage(i)\n",
        "    result = googlenews.result()\n",
        "    df = pd.DataFrame(result)"
      ],
      "metadata": {
        "id": "8g-rizx9MPwq"
      },
      "execution_count": 20,
      "outputs": []
    },
    {
      "cell_type": "code",
      "source": [
        "df"
      ],
      "metadata": {
        "id": "JTKLr6fjgOpy",
        "colab": {
          "base_uri": "https://localhost:8080/",
          "height": 597
        },
        "outputId": "72b80c95-75ae-4e29-a689-294dcea08929"
      },
      "execution_count": 21,
      "outputs": [
        {
          "output_type": "execute_result",
          "data": {
            "text/plain": [
              "                                                title             media  \\\n",
              "0   Stock market today: US stocks drift higher to ...     Yahoo Finance   \n",
              "1   panel urges Treasury Dept to make tech firms c...     Yahoo Finance   \n",
              "2   January jobs report: One thing that may be pro...     Yahoo Finance   \n",
              "3   Finance & Restructuring Partner Jeremy Finkels...  The Joplin Globe   \n",
              "4   Oil drops with OPEC+ output steady, traders aw...     Yahoo Finance   \n",
              "..                                                ...               ...   \n",
              "85   Three Ways Equipment Finance Will Evolve In 2024            Forbes   \n",
              "86  Big Tech earnings: What markets are expecting ...     Yahoo Finance   \n",
              "87  Egypt considers issuing UAE dirham-denominated...      Ahram Online   \n",
              "88  The Zacks Analyst Blog Highlights Simmons Firs...     Yahoo Finance   \n",
              "89  Sound Financial Strategies for Single Adults |...     US News Money   \n",
              "\n",
              "           date                   datetime desc  \\\n",
              "0    0 mins ago 2024-01-29 20:21:33.762034        \n",
              "1    0 mins ago 2024-01-29 20:21:33.765791        \n",
              "2    5 mins ago 2024-01-29 20:16:33.768993        \n",
              "3    1 hour ago 2024-01-29 19:21:33.785958        \n",
              "4    1 hour ago 2024-01-29 19:21:33.803468        \n",
              "..          ...                        ...  ...   \n",
              "85  5 hours ago 2024-01-29 15:23:18.885905        \n",
              "86  5 hours ago 2024-01-29 15:23:18.906066        \n",
              "87  5 hours ago 2024-01-29 15:23:18.925983        \n",
              "88  6 hours ago 2024-01-29 14:23:18.951672        \n",
              "89  6 hours ago 2024-01-29 14:23:18.968361        \n",
              "\n",
              "                                                 link  \\\n",
              "0   https://finance.yahoo.com/news/stock-market-to...   \n",
              "1   https://finance.yahoo.com/news/panel-urges-tre...   \n",
              "2   https://finance.yahoo.com/video/january-jobs-r...   \n",
              "3   https://www.joplinglobe.com/region/national_bu...   \n",
              "4   https://finance.yahoo.com/news/oil-jumps-attac...   \n",
              "..                                                ...   \n",
              "85  https://www.forbes.com/sites/forbesbusinesscou...   \n",
              "86  https://finance.yahoo.com/video/big-tech-earni...   \n",
              "87  https://english.ahram.org.eg/NewsContent/3/12/...   \n",
              "88  https://finance.yahoo.com/news/zacks-analyst-b...   \n",
              "89  https://money.usnews.com/money/personal-financ...   \n",
              "\n",
              "                                                  img  \n",
              "0   data:image/gif;base64,R0lGODlhAQABAIAAAP//////...  \n",
              "1   data:image/gif;base64,R0lGODlhAQABAIAAAP//////...  \n",
              "2   data:image/gif;base64,R0lGODlhAQABAIAAAP//////...  \n",
              "3   data:image/gif;base64,R0lGODlhAQABAIAAAP//////...  \n",
              "4   data:image/gif;base64,R0lGODlhAQABAIAAAP//////...  \n",
              "..                                                ...  \n",
              "85  data:image/gif;base64,R0lGODlhAQABAIAAAP//////...  \n",
              "86  data:image/gif;base64,R0lGODlhAQABAIAAAP//////...  \n",
              "87  data:image/gif;base64,R0lGODlhAQABAIAAAP//////...  \n",
              "88  data:image/gif;base64,R0lGODlhAQABAIAAAP//////...  \n",
              "89  data:image/gif;base64,R0lGODlhAQABAIAAAP//////...  \n",
              "\n",
              "[90 rows x 7 columns]"
            ],
            "text/html": [
              "\n",
              "  <div id=\"df-c0c41d6a-7355-43e9-88dd-31002f3ccfc0\" class=\"colab-df-container\">\n",
              "    <div>\n",
              "<style scoped>\n",
              "    .dataframe tbody tr th:only-of-type {\n",
              "        vertical-align: middle;\n",
              "    }\n",
              "\n",
              "    .dataframe tbody tr th {\n",
              "        vertical-align: top;\n",
              "    }\n",
              "\n",
              "    .dataframe thead th {\n",
              "        text-align: right;\n",
              "    }\n",
              "</style>\n",
              "<table border=\"1\" class=\"dataframe\">\n",
              "  <thead>\n",
              "    <tr style=\"text-align: right;\">\n",
              "      <th></th>\n",
              "      <th>title</th>\n",
              "      <th>media</th>\n",
              "      <th>date</th>\n",
              "      <th>datetime</th>\n",
              "      <th>desc</th>\n",
              "      <th>link</th>\n",
              "      <th>img</th>\n",
              "    </tr>\n",
              "  </thead>\n",
              "  <tbody>\n",
              "    <tr>\n",
              "      <th>0</th>\n",
              "      <td>Stock market today: US stocks drift higher to ...</td>\n",
              "      <td>Yahoo Finance</td>\n",
              "      <td>0 mins ago</td>\n",
              "      <td>2024-01-29 20:21:33.762034</td>\n",
              "      <td></td>\n",
              "      <td>https://finance.yahoo.com/news/stock-market-to...</td>\n",
              "      <td>data:image/gif;base64,R0lGODlhAQABAIAAAP//////...</td>\n",
              "    </tr>\n",
              "    <tr>\n",
              "      <th>1</th>\n",
              "      <td>panel urges Treasury Dept to make tech firms c...</td>\n",
              "      <td>Yahoo Finance</td>\n",
              "      <td>0 mins ago</td>\n",
              "      <td>2024-01-29 20:21:33.765791</td>\n",
              "      <td></td>\n",
              "      <td>https://finance.yahoo.com/news/panel-urges-tre...</td>\n",
              "      <td>data:image/gif;base64,R0lGODlhAQABAIAAAP//////...</td>\n",
              "    </tr>\n",
              "    <tr>\n",
              "      <th>2</th>\n",
              "      <td>January jobs report: One thing that may be pro...</td>\n",
              "      <td>Yahoo Finance</td>\n",
              "      <td>5 mins ago</td>\n",
              "      <td>2024-01-29 20:16:33.768993</td>\n",
              "      <td></td>\n",
              "      <td>https://finance.yahoo.com/video/january-jobs-r...</td>\n",
              "      <td>data:image/gif;base64,R0lGODlhAQABAIAAAP//////...</td>\n",
              "    </tr>\n",
              "    <tr>\n",
              "      <th>3</th>\n",
              "      <td>Finance &amp; Restructuring Partner Jeremy Finkels...</td>\n",
              "      <td>The Joplin Globe</td>\n",
              "      <td>1 hour ago</td>\n",
              "      <td>2024-01-29 19:21:33.785958</td>\n",
              "      <td></td>\n",
              "      <td>https://www.joplinglobe.com/region/national_bu...</td>\n",
              "      <td>data:image/gif;base64,R0lGODlhAQABAIAAAP//////...</td>\n",
              "    </tr>\n",
              "    <tr>\n",
              "      <th>4</th>\n",
              "      <td>Oil drops with OPEC+ output steady, traders aw...</td>\n",
              "      <td>Yahoo Finance</td>\n",
              "      <td>1 hour ago</td>\n",
              "      <td>2024-01-29 19:21:33.803468</td>\n",
              "      <td></td>\n",
              "      <td>https://finance.yahoo.com/news/oil-jumps-attac...</td>\n",
              "      <td>data:image/gif;base64,R0lGODlhAQABAIAAAP//////...</td>\n",
              "    </tr>\n",
              "    <tr>\n",
              "      <th>...</th>\n",
              "      <td>...</td>\n",
              "      <td>...</td>\n",
              "      <td>...</td>\n",
              "      <td>...</td>\n",
              "      <td>...</td>\n",
              "      <td>...</td>\n",
              "      <td>...</td>\n",
              "    </tr>\n",
              "    <tr>\n",
              "      <th>85</th>\n",
              "      <td>Three Ways Equipment Finance Will Evolve In 2024</td>\n",
              "      <td>Forbes</td>\n",
              "      <td>5 hours ago</td>\n",
              "      <td>2024-01-29 15:23:18.885905</td>\n",
              "      <td></td>\n",
              "      <td>https://www.forbes.com/sites/forbesbusinesscou...</td>\n",
              "      <td>data:image/gif;base64,R0lGODlhAQABAIAAAP//////...</td>\n",
              "    </tr>\n",
              "    <tr>\n",
              "      <th>86</th>\n",
              "      <td>Big Tech earnings: What markets are expecting ...</td>\n",
              "      <td>Yahoo Finance</td>\n",
              "      <td>5 hours ago</td>\n",
              "      <td>2024-01-29 15:23:18.906066</td>\n",
              "      <td></td>\n",
              "      <td>https://finance.yahoo.com/video/big-tech-earni...</td>\n",
              "      <td>data:image/gif;base64,R0lGODlhAQABAIAAAP//////...</td>\n",
              "    </tr>\n",
              "    <tr>\n",
              "      <th>87</th>\n",
              "      <td>Egypt considers issuing UAE dirham-denominated...</td>\n",
              "      <td>Ahram Online</td>\n",
              "      <td>5 hours ago</td>\n",
              "      <td>2024-01-29 15:23:18.925983</td>\n",
              "      <td></td>\n",
              "      <td>https://english.ahram.org.eg/NewsContent/3/12/...</td>\n",
              "      <td>data:image/gif;base64,R0lGODlhAQABAIAAAP//////...</td>\n",
              "    </tr>\n",
              "    <tr>\n",
              "      <th>88</th>\n",
              "      <td>The Zacks Analyst Blog Highlights Simmons Firs...</td>\n",
              "      <td>Yahoo Finance</td>\n",
              "      <td>6 hours ago</td>\n",
              "      <td>2024-01-29 14:23:18.951672</td>\n",
              "      <td></td>\n",
              "      <td>https://finance.yahoo.com/news/zacks-analyst-b...</td>\n",
              "      <td>data:image/gif;base64,R0lGODlhAQABAIAAAP//////...</td>\n",
              "    </tr>\n",
              "    <tr>\n",
              "      <th>89</th>\n",
              "      <td>Sound Financial Strategies for Single Adults |...</td>\n",
              "      <td>US News Money</td>\n",
              "      <td>6 hours ago</td>\n",
              "      <td>2024-01-29 14:23:18.968361</td>\n",
              "      <td></td>\n",
              "      <td>https://money.usnews.com/money/personal-financ...</td>\n",
              "      <td>data:image/gif;base64,R0lGODlhAQABAIAAAP//////...</td>\n",
              "    </tr>\n",
              "  </tbody>\n",
              "</table>\n",
              "<p>90 rows × 7 columns</p>\n",
              "</div>\n",
              "    <div class=\"colab-df-buttons\">\n",
              "\n",
              "  <div class=\"colab-df-container\">\n",
              "    <button class=\"colab-df-convert\" onclick=\"convertToInteractive('df-c0c41d6a-7355-43e9-88dd-31002f3ccfc0')\"\n",
              "            title=\"Convert this dataframe to an interactive table.\"\n",
              "            style=\"display:none;\">\n",
              "\n",
              "  <svg xmlns=\"http://www.w3.org/2000/svg\" height=\"24px\" viewBox=\"0 -960 960 960\">\n",
              "    <path d=\"M120-120v-720h720v720H120Zm60-500h600v-160H180v160Zm220 220h160v-160H400v160Zm0 220h160v-160H400v160ZM180-400h160v-160H180v160Zm440 0h160v-160H620v160ZM180-180h160v-160H180v160Zm440 0h160v-160H620v160Z\"/>\n",
              "  </svg>\n",
              "    </button>\n",
              "\n",
              "  <style>\n",
              "    .colab-df-container {\n",
              "      display:flex;\n",
              "      gap: 12px;\n",
              "    }\n",
              "\n",
              "    .colab-df-convert {\n",
              "      background-color: #E8F0FE;\n",
              "      border: none;\n",
              "      border-radius: 50%;\n",
              "      cursor: pointer;\n",
              "      display: none;\n",
              "      fill: #1967D2;\n",
              "      height: 32px;\n",
              "      padding: 0 0 0 0;\n",
              "      width: 32px;\n",
              "    }\n",
              "\n",
              "    .colab-df-convert:hover {\n",
              "      background-color: #E2EBFA;\n",
              "      box-shadow: 0px 1px 2px rgba(60, 64, 67, 0.3), 0px 1px 3px 1px rgba(60, 64, 67, 0.15);\n",
              "      fill: #174EA6;\n",
              "    }\n",
              "\n",
              "    .colab-df-buttons div {\n",
              "      margin-bottom: 4px;\n",
              "    }\n",
              "\n",
              "    [theme=dark] .colab-df-convert {\n",
              "      background-color: #3B4455;\n",
              "      fill: #D2E3FC;\n",
              "    }\n",
              "\n",
              "    [theme=dark] .colab-df-convert:hover {\n",
              "      background-color: #434B5C;\n",
              "      box-shadow: 0px 1px 3px 1px rgba(0, 0, 0, 0.15);\n",
              "      filter: drop-shadow(0px 1px 2px rgba(0, 0, 0, 0.3));\n",
              "      fill: #FFFFFF;\n",
              "    }\n",
              "  </style>\n",
              "\n",
              "    <script>\n",
              "      const buttonEl =\n",
              "        document.querySelector('#df-c0c41d6a-7355-43e9-88dd-31002f3ccfc0 button.colab-df-convert');\n",
              "      buttonEl.style.display =\n",
              "        google.colab.kernel.accessAllowed ? 'block' : 'none';\n",
              "\n",
              "      async function convertToInteractive(key) {\n",
              "        const element = document.querySelector('#df-c0c41d6a-7355-43e9-88dd-31002f3ccfc0');\n",
              "        const dataTable =\n",
              "          await google.colab.kernel.invokeFunction('convertToInteractive',\n",
              "                                                    [key], {});\n",
              "        if (!dataTable) return;\n",
              "\n",
              "        const docLinkHtml = 'Like what you see? Visit the ' +\n",
              "          '<a target=\"_blank\" href=https://colab.research.google.com/notebooks/data_table.ipynb>data table notebook</a>'\n",
              "          + ' to learn more about interactive tables.';\n",
              "        element.innerHTML = '';\n",
              "        dataTable['output_type'] = 'display_data';\n",
              "        await google.colab.output.renderOutput(dataTable, element);\n",
              "        const docLink = document.createElement('div');\n",
              "        docLink.innerHTML = docLinkHtml;\n",
              "        element.appendChild(docLink);\n",
              "      }\n",
              "    </script>\n",
              "  </div>\n",
              "\n",
              "\n",
              "<div id=\"df-96cbf67a-632e-453c-982f-56d680a67144\">\n",
              "  <button class=\"colab-df-quickchart\" onclick=\"quickchart('df-96cbf67a-632e-453c-982f-56d680a67144')\"\n",
              "            title=\"Suggest charts\"\n",
              "            style=\"display:none;\">\n",
              "\n",
              "<svg xmlns=\"http://www.w3.org/2000/svg\" height=\"24px\"viewBox=\"0 0 24 24\"\n",
              "     width=\"24px\">\n",
              "    <g>\n",
              "        <path d=\"M19 3H5c-1.1 0-2 .9-2 2v14c0 1.1.9 2 2 2h14c1.1 0 2-.9 2-2V5c0-1.1-.9-2-2-2zM9 17H7v-7h2v7zm4 0h-2V7h2v10zm4 0h-2v-4h2v4z\"/>\n",
              "    </g>\n",
              "</svg>\n",
              "  </button>\n",
              "\n",
              "<style>\n",
              "  .colab-df-quickchart {\n",
              "      --bg-color: #E8F0FE;\n",
              "      --fill-color: #1967D2;\n",
              "      --hover-bg-color: #E2EBFA;\n",
              "      --hover-fill-color: #174EA6;\n",
              "      --disabled-fill-color: #AAA;\n",
              "      --disabled-bg-color: #DDD;\n",
              "  }\n",
              "\n",
              "  [theme=dark] .colab-df-quickchart {\n",
              "      --bg-color: #3B4455;\n",
              "      --fill-color: #D2E3FC;\n",
              "      --hover-bg-color: #434B5C;\n",
              "      --hover-fill-color: #FFFFFF;\n",
              "      --disabled-bg-color: #3B4455;\n",
              "      --disabled-fill-color: #666;\n",
              "  }\n",
              "\n",
              "  .colab-df-quickchart {\n",
              "    background-color: var(--bg-color);\n",
              "    border: none;\n",
              "    border-radius: 50%;\n",
              "    cursor: pointer;\n",
              "    display: none;\n",
              "    fill: var(--fill-color);\n",
              "    height: 32px;\n",
              "    padding: 0;\n",
              "    width: 32px;\n",
              "  }\n",
              "\n",
              "  .colab-df-quickchart:hover {\n",
              "    background-color: var(--hover-bg-color);\n",
              "    box-shadow: 0 1px 2px rgba(60, 64, 67, 0.3), 0 1px 3px 1px rgba(60, 64, 67, 0.15);\n",
              "    fill: var(--button-hover-fill-color);\n",
              "  }\n",
              "\n",
              "  .colab-df-quickchart-complete:disabled,\n",
              "  .colab-df-quickchart-complete:disabled:hover {\n",
              "    background-color: var(--disabled-bg-color);\n",
              "    fill: var(--disabled-fill-color);\n",
              "    box-shadow: none;\n",
              "  }\n",
              "\n",
              "  .colab-df-spinner {\n",
              "    border: 2px solid var(--fill-color);\n",
              "    border-color: transparent;\n",
              "    border-bottom-color: var(--fill-color);\n",
              "    animation:\n",
              "      spin 1s steps(1) infinite;\n",
              "  }\n",
              "\n",
              "  @keyframes spin {\n",
              "    0% {\n",
              "      border-color: transparent;\n",
              "      border-bottom-color: var(--fill-color);\n",
              "      border-left-color: var(--fill-color);\n",
              "    }\n",
              "    20% {\n",
              "      border-color: transparent;\n",
              "      border-left-color: var(--fill-color);\n",
              "      border-top-color: var(--fill-color);\n",
              "    }\n",
              "    30% {\n",
              "      border-color: transparent;\n",
              "      border-left-color: var(--fill-color);\n",
              "      border-top-color: var(--fill-color);\n",
              "      border-right-color: var(--fill-color);\n",
              "    }\n",
              "    40% {\n",
              "      border-color: transparent;\n",
              "      border-right-color: var(--fill-color);\n",
              "      border-top-color: var(--fill-color);\n",
              "    }\n",
              "    60% {\n",
              "      border-color: transparent;\n",
              "      border-right-color: var(--fill-color);\n",
              "    }\n",
              "    80% {\n",
              "      border-color: transparent;\n",
              "      border-right-color: var(--fill-color);\n",
              "      border-bottom-color: var(--fill-color);\n",
              "    }\n",
              "    90% {\n",
              "      border-color: transparent;\n",
              "      border-bottom-color: var(--fill-color);\n",
              "    }\n",
              "  }\n",
              "</style>\n",
              "\n",
              "  <script>\n",
              "    async function quickchart(key) {\n",
              "      const quickchartButtonEl =\n",
              "        document.querySelector('#' + key + ' button');\n",
              "      quickchartButtonEl.disabled = true;  // To prevent multiple clicks.\n",
              "      quickchartButtonEl.classList.add('colab-df-spinner');\n",
              "      try {\n",
              "        const charts = await google.colab.kernel.invokeFunction(\n",
              "            'suggestCharts', [key], {});\n",
              "      } catch (error) {\n",
              "        console.error('Error during call to suggestCharts:', error);\n",
              "      }\n",
              "      quickchartButtonEl.classList.remove('colab-df-spinner');\n",
              "      quickchartButtonEl.classList.add('colab-df-quickchart-complete');\n",
              "    }\n",
              "    (() => {\n",
              "      let quickchartButtonEl =\n",
              "        document.querySelector('#df-96cbf67a-632e-453c-982f-56d680a67144 button');\n",
              "      quickchartButtonEl.style.display =\n",
              "        google.colab.kernel.accessAllowed ? 'block' : 'none';\n",
              "    })();\n",
              "  </script>\n",
              "</div>\n",
              "    </div>\n",
              "  </div>\n"
            ]
          },
          "metadata": {},
          "execution_count": 21
        }
      ]
    },
    {
      "cell_type": "code",
      "source": [],
      "metadata": {
        "id": "SyLAvb58MPcz"
      },
      "execution_count": null,
      "outputs": []
    },
    {
      "cell_type": "markdown",
      "source": [
        "#### Alternative: Extract web pages/ blog articles"
      ],
      "metadata": {
        "id": "0yy2X3V7kPWN"
      }
    },
    {
      "cell_type": "code",
      "source": [
        "## uncomment if smooth browser functionality is required for using chrome/firefox web drivers\n",
        "\n",
        "# !playwright install\n",
        "# !playwright install-deps"
      ],
      "metadata": {
        "id": "fy4JukEvv7kZ"
      },
      "execution_count": null,
      "outputs": []
    },
    {
      "cell_type": "code",
      "source": [
        "# Alternative\n",
        "# Inference over URL, using chromium driver\n",
        "\n",
        "import nest_asyncio\n",
        "nest_asyncio.apply()\n",
        "\n",
        "# Articles to index\n",
        "## Andrej Karpathy: Software 2.0 Article\n",
        "articles = [\"https://karpathy.medium.com/software-2-0-a64152b37c35\",]\n",
        "\n",
        "# Scrapes the blogs above\n",
        "loader = AsyncChromiumLoader(articles)\n",
        "docs = loader.load()"
      ],
      "metadata": {
        "id": "GIo4CJgIFEWV"
      },
      "execution_count": null,
      "outputs": []
    },
    {
      "cell_type": "markdown",
      "source": [
        "## Create embeddings and vector db"
      ],
      "metadata": {
        "id": "cmD4-tddg2YF"
      }
    },
    {
      "cell_type": "markdown",
      "source": [
        "Create Retriever Embeddings - HF BGE Embeddings\n",
        "\n",
        "BGE Embeddings are at the top of the leader board on Hugging Face (https://huggingface.co/spaces/mteb/leaderboard).\n"
      ],
      "metadata": {
        "id": "Qe4OgiuchArw"
      }
    },
    {
      "cell_type": "code",
      "source": [
        "# BGE Embedding Model for Retrieval. Embedding Size is 768.\n",
        "model_name = \"BAAI/bge-base-en\"\n",
        "encode_kwargs = {'normalize_embeddings': True} # set True to compute cosine similarity\n",
        "\n",
        "model_embedding = HuggingFaceBgeEmbeddings(\n",
        "                    model_name=model_name,\n",
        "                    model_kwargs={'device': 'cuda'},\n",
        "                    encode_kwargs=encode_kwargs\n",
        "                  )"
      ],
      "metadata": {
        "id": "kM9nCmqmbQ4w"
      },
      "execution_count": 22,
      "outputs": []
    },
    {
      "cell_type": "markdown",
      "source": [
        "Create the Vector DB Store Using Chroma DB"
      ],
      "metadata": {
        "id": "Qebgj7eGbjfG"
      }
    },
    {
      "cell_type": "code",
      "source": [
        "%%time\n",
        "# Embed and store the texts\n",
        "# Supplying a persist_directory will store the embeddings on disk\n",
        "# Creating Vector Store takes ~ 2 mins\n",
        "\n",
        "persist_directory = 'db'\n",
        "\n",
        "## Here is the nmew embeddings being used\n",
        "embedding = model_embedding\n",
        "\n",
        "vectordb = Chroma.from_documents(documents=texts,\n",
        "                                 embedding=embedding,\n",
        "                                 persist_directory=persist_directory)"
      ],
      "metadata": {
        "colab": {
          "base_uri": "https://localhost:8080/"
        },
        "id": "OmaCbx-nbQ2F",
        "outputId": "58f76b73-ea3e-44b5-9457-756672184118"
      },
      "execution_count": 23,
      "outputs": [
        {
          "output_type": "stream",
          "name": "stdout",
          "text": [
            "CPU times: user 15.6 s, sys: 88.3 ms, total: 15.7 s\n",
            "Wall time: 16.5 s\n"
          ]
        }
      ]
    },
    {
      "cell_type": "code",
      "source": [
        "# Returns the Top-k chunks from vectordb. Set to 2 to check.\n",
        "retriever = vectordb.as_retriever(search_kwargs={\"k\": 2})"
      ],
      "metadata": {
        "id": "S9XlanshbQz6"
      },
      "execution_count": 24,
      "outputs": []
    },
    {
      "cell_type": "markdown",
      "source": [
        "### Check retrieval from Chroma db"
      ],
      "metadata": {
        "id": "SAd2zIrfhJre"
      }
    },
    {
      "cell_type": "code",
      "source": [
        "# # Approach 1: Use Query to do Similarity Search\n",
        "\n",
        "query = \"What is The Physical Basis of Consciousness?\"\n",
        "\n",
        "\n",
        "docs = vectordb.similarity_search(query)\n",
        "\n",
        "print(\"# of results: \", len(docs))\n",
        "\n",
        "# First page\n",
        "print(docs[0].page_content)\n",
        "print(\"\\n\")\n",
        "print(docs[0].metadata)\n",
        "\n",
        "# Last page of results\n",
        "print(docs[-1].page_content)\n",
        "print(\"\\n\")\n",
        "print(docs[-1].metadata)"
      ],
      "metadata": {
        "colab": {
          "base_uri": "https://localhost:8080/"
        },
        "id": "96kfFL_nbt9T",
        "outputId": "9ef52732-7881-4b73-d3ad-d7db179c6482"
      },
      "execution_count": 25,
      "outputs": [
        {
          "output_type": "stream",
          "name": "stdout",
          "text": [
            "# of results:  4\n",
            "CHAPTER I\n",
            "ThePhysicalBasisofConsciousness\n",
            "THEPROBLEM\n",
            "Theworldisaconstruct ofoursensations, perceptions,\n",
            "memories. Itisconvenient toregarditasexisting objectively\n",
            "onitsown.Butitcertainly doesnotbecome manifest byits\n",
            "mereexistence. Itsbecoming manifest isconditional onvery\n",
            "specialgoings-on inveryspecialpartsofthisveryworld,\n",
            "namelyoncertaineventsthathappen inabrain.Thatisan\n",
            "inordinately peculiar kindofimplication, whichprompts the\n",
            "question: Whatparticular properties distinguish thesebrain\n",
            "processes andenablethemtoproduce themanifestation? Can\n",
            "weguesswhichmaterial processes havethispower,which\n",
            "not?Orsimpler: Whatkindofmaterial process isdirectly\n",
            "associated withconsciousness?\n",
            "Arationalist maybeinclined todealcurtlywiththis\n",
            "question, roughly asfollows.Fromourownexperience, andas\n",
            "regards thehigheranimals fromanalogy, consciousness is\n",
            "linkedupwithcertainkindsofeventsinorganized, living\n",
            "matter,namely, withcertainnervous functions. Howfarback\n",
            "or'down'intheanimalkingdom thereisstillsomesortof\n",
            "\n",
            "\n",
            "{'page': 104, 'source': 'docs/what-is-life.pdf'}\n",
            "MindandMatter 121\n",
            "Intheworldofphysics wewatchashadowgraph performance of\n",
            "familiar life.Theshadowofmyelbowrestsontheshadow tableas\n",
            "theshadow inkflowsovertheshadow paper...Thefrankreali­\n",
            "zationthatphysical scienceisconcerned withaworldofshadows is\n",
            "oneofthemostsignificant ofrecentadvances. I\n",
            "Pleasenotethattheveryrecentadvance doesnotlieinthe\n",
            "worldofphysics itselfhavingacquired thisshadowy charac­\n",
            "ter;ithaditeversinceDemocritus ofAbderaandevenbefore,\n",
            "butwewerenotawareofit;wethought weweredealingwith\n",
            "theworlditself;expressions likemodelorpicture forthe\n",
            "conceptual constructs ofsciencecanleupinthesecondhalfof\n",
            "thenineteenth century, andnotearlier,asfarasIknow.\n",
            "NotmuchlaterSirCharles Sherrington published his\n",
            "momentous ManonhisNature.2Thebookispervaded bythe\n",
            "honestsearchforobjective evidence oftheinteraction between\n",
            "matterandmind.Istresstheepithet'honest', because itdoes\n",
            "needaveryseriousandsincereendeavour tolookforsome­\n",
            "thingwhichoneisdeeplyconvinced inadvance cannotbe\n",
            "\n",
            "\n",
            "{'page': 132, 'source': 'docs/what-is-life.pdf'}\n"
          ]
        }
      ]
    },
    {
      "cell_type": "code",
      "source": [
        "# # Approach 2: Use Embedding Vector to do Similarity Search\n",
        "embedding_vector = embedding.embed_query(query)\n",
        "\n",
        "docs = vectordb.similarity_search_by_vector(embedding_vector)\n",
        "\n",
        "print(\"# of results: \", len(docs))\n",
        "\n",
        "# First page\n",
        "print(docs[0].page_content)\n",
        "print(\"\\n\")\n",
        "print(docs[0].metadata)\n",
        "\n",
        "# Last page of results\n",
        "print(docs[-1].page_content)\n",
        "print(\"\\n\")\n",
        "print(docs[-1].metadata)"
      ],
      "metadata": {
        "colab": {
          "base_uri": "https://localhost:8080/"
        },
        "id": "_PA40S1Lbt64",
        "outputId": "1e5559af-c225-478f-ff2f-f436da929002"
      },
      "execution_count": 26,
      "outputs": [
        {
          "output_type": "stream",
          "name": "stdout",
          "text": [
            "# of results:  4\n",
            "CHAPTER I\n",
            "ThePhysicalBasisofConsciousness\n",
            "THEPROBLEM\n",
            "Theworldisaconstruct ofoursensations, perceptions,\n",
            "memories. Itisconvenient toregarditasexisting objectively\n",
            "onitsown.Butitcertainly doesnotbecome manifest byits\n",
            "mereexistence. Itsbecoming manifest isconditional onvery\n",
            "specialgoings-on inveryspecialpartsofthisveryworld,\n",
            "namelyoncertaineventsthathappen inabrain.Thatisan\n",
            "inordinately peculiar kindofimplication, whichprompts the\n",
            "question: Whatparticular properties distinguish thesebrain\n",
            "processes andenablethemtoproduce themanifestation? Can\n",
            "weguesswhichmaterial processes havethispower,which\n",
            "not?Orsimpler: Whatkindofmaterial process isdirectly\n",
            "associated withconsciousness?\n",
            "Arationalist maybeinclined todealcurtlywiththis\n",
            "question, roughly asfollows.Fromourownexperience, andas\n",
            "regards thehigheranimals fromanalogy, consciousness is\n",
            "linkedupwithcertainkindsofeventsinorganized, living\n",
            "matter,namely, withcertainnervous functions. Howfarback\n",
            "or'down'intheanimalkingdom thereisstillsomesortof\n",
            "\n",
            "\n",
            "{'page': 104, 'source': 'docs/what-is-life.pdf'}\n",
            "MindandMatter 121\n",
            "Intheworldofphysics wewatchashadowgraph performance of\n",
            "familiar life.Theshadowofmyelbowrestsontheshadow tableas\n",
            "theshadow inkflowsovertheshadow paper...Thefrankreali­\n",
            "zationthatphysical scienceisconcerned withaworldofshadows is\n",
            "oneofthemostsignificant ofrecentadvances. I\n",
            "Pleasenotethattheveryrecentadvance doesnotlieinthe\n",
            "worldofphysics itselfhavingacquired thisshadowy charac­\n",
            "ter;ithaditeversinceDemocritus ofAbderaandevenbefore,\n",
            "butwewerenotawareofit;wethought weweredealingwith\n",
            "theworlditself;expressions likemodelorpicture forthe\n",
            "conceptual constructs ofsciencecanleupinthesecondhalfof\n",
            "thenineteenth century, andnotearlier,asfarasIknow.\n",
            "NotmuchlaterSirCharles Sherrington published his\n",
            "momentous ManonhisNature.2Thebookispervaded bythe\n",
            "honestsearchforobjective evidence oftheinteraction between\n",
            "matterandmind.Istresstheepithet'honest', because itdoes\n",
            "needaveryseriousandsincereendeavour tolookforsome­\n",
            "thingwhichoneisdeeplyconvinced inadvance cannotbe\n",
            "\n",
            "\n",
            "{'page': 132, 'source': 'docs/what-is-life.pdf'}\n"
          ]
        }
      ]
    },
    {
      "cell_type": "code",
      "source": [],
      "metadata": {
        "id": "0NMmO4OObtwe"
      },
      "execution_count": null,
      "outputs": []
    },
    {
      "cell_type": "markdown",
      "source": [
        "## Run LLM on data"
      ],
      "metadata": {
        "id": "ONzcWEIUhbCh"
      }
    },
    {
      "cell_type": "markdown",
      "source": [
        "### Prompt template setup"
      ],
      "metadata": {
        "id": "veay0ZOB5oDI"
      }
    },
    {
      "cell_type": "code",
      "source": [
        "prompt = \"What is Consciousness?\"\n",
        "\n",
        "prompt_template=f'''[INST] <>\n",
        "You are a helpful, respectful and honest assistant. Always answer as helpfully as possible, while being safe.  Your answers should not include any harmful, unethical, racist, sexist, toxic, dangerous, or illegal content. Please ensure that your responses are socially unbiased and positive in nature. If a question does not make any sense, or is not factually coherent, explain why instead of answering something not correct. If you don't know the answer to a question, please don't share false information.\n",
        "<>\n",
        "{prompt}[/INST]\n",
        "\n",
        "'''"
      ],
      "metadata": {
        "id": "Hqu6jnMzFENp"
      },
      "execution_count": 27,
      "outputs": []
    },
    {
      "cell_type": "code",
      "source": [
        "print(\"\\n\\n*** Generate:\")\n",
        "\n",
        "pprint(response_generation_pipeline(prompt_template)[0]['generated_text'])"
      ],
      "metadata": {
        "colab": {
          "base_uri": "https://localhost:8080/"
        },
        "id": "YLmMWdSL5xZu",
        "outputId": "d544fd7a-6804-42bd-987f-2f1079553ee6"
      },
      "execution_count": 31,
      "outputs": [
        {
          "output_type": "stream",
          "name": "stderr",
          "text": [
            "/usr/local/lib/python3.10/dist-packages/transformers/generation/configuration_utils.py:392: UserWarning: `do_sample` is set to `False`. However, `temperature` is set to `0.2` -- this flag is only used in sample-based generation modes. You should set `do_sample=True` or unset `temperature`.\n",
            "  warnings.warn(\n",
            "Setting `pad_token_id` to `eos_token_id`:2 for open-end generation.\n"
          ]
        },
        {
          "output_type": "stream",
          "name": "stdout",
          "text": [
            "\n",
            "\n",
            "*** Generate:\n",
            "('[INST] <>\\n'\n",
            " 'You are a helpful, respectful and honest assistant. Always answer as '\n",
            " 'helpfully as possible, while being safe.  Your answers should not include '\n",
            " 'any harmful, unethical, racist, sexist, toxic, dangerous, or illegal '\n",
            " 'content. Please ensure that your responses are socially unbiased and '\n",
            " 'positive in nature. If a question does not make any sense, or is not '\n",
            " 'factually coherent, explain why instead of answering something not correct. '\n",
            " \"If you don't know the answer to a question, please don't share false \"\n",
            " 'information.\\n'\n",
            " '<>\\n'\n",
            " 'What is Consciousness?[/INST]\\n'\n",
            " '\\n'\n",
            " \"Consciousness refers to an individual's subjective experience of the world \"\n",
            " 'around them. It involves the ability to perceive, process, and respond to '\n",
            " 'information from the environment, as well as having self-awareness and '\n",
            " 'introspective abilities. The exact nature of consciousness and how it arises '\n",
            " 'from physical processes in the brain is still a topic of ongoing research '\n",
            " 'and debate among scientists and philosophers. Some theories suggest that '\n",
            " 'consciousness emerges from complex neural activity, while others propose '\n",
            " 'that it may be a fundamental property of the universe. Ultimately, '\n",
            " 'consciousness is a multifaceted phenomenon that continues to intrigue and '\n",
            " 'challenge our understanding of the human mind and the nature of reality '\n",
            " 'itself.')\n"
          ]
        }
      ]
    },
    {
      "cell_type": "markdown",
      "source": [
        "## Setup RAG Chain\n",
        "\n",
        "RAG Chain = LLM + Retriever + Query Prompt"
      ],
      "metadata": {
        "id": "JLWTPGLzkxY0"
      }
    },
    {
      "cell_type": "code",
      "source": [
        "retriever = vectordb.as_retriever(search_kwargs={\"k\": 5})"
      ],
      "metadata": {
        "id": "KtcqttQsijiV"
      },
      "execution_count": 32,
      "outputs": []
    },
    {
      "cell_type": "code",
      "source": [
        "qa_chain = RetrievalQA.from_chain_type(llm=response_generation_llm,\n",
        "                                  chain_type=\"stuff\",\n",
        "                                  retriever=retriever,\n",
        "                                  return_source_documents=True)"
      ],
      "metadata": {
        "id": "89gF_vFoijfg"
      },
      "execution_count": 33,
      "outputs": []
    },
    {
      "cell_type": "markdown",
      "source": [
        "### Check RAG responses"
      ],
      "metadata": {
        "id": "i6OI8SiSmoue"
      }
    },
    {
      "cell_type": "code",
      "source": [
        "query = \"What are the author's thoughts on Determinism and Free Will?\"\n",
        "\n",
        "llm_response = qa_chain(query)\n",
        "llm_response['result'].split('\\n')"
      ],
      "metadata": {
        "colab": {
          "base_uri": "https://localhost:8080/"
        },
        "id": "h5tLFQ-Wk98u",
        "outputId": "c5e1d434-3018-4380-f71f-7ad88d16bac1"
      },
      "execution_count": 34,
      "outputs": [
        {
          "output_type": "stream",
          "name": "stderr",
          "text": [
            "/usr/local/lib/python3.10/dist-packages/langchain_core/_api/deprecation.py:117: LangChainDeprecationWarning: The function `__call__` was deprecated in LangChain 0.1.0 and will be removed in 0.2.0. Use invoke instead.\n",
            "  warn_deprecated(\n",
            "/usr/local/lib/python3.10/dist-packages/transformers/generation/configuration_utils.py:392: UserWarning: `do_sample` is set to `False`. However, `temperature` is set to `0.2` -- this flag is only used in sample-based generation modes. You should set `do_sample=True` or unset `temperature`.\n",
            "  warnings.warn(\n",
            "Setting `pad_token_id` to `eos_token_id`:2 for open-end generation.\n"
          ]
        },
        {
          "output_type": "execute_result",
          "data": {
            "text/plain": [
              "[\" Schrödinger expresses his concern about the Western world's lack of appreciation for the importance of the mind and soul, which he believes have been overshadowed by the focus on external objects of cognizance. He acknowledges that psychologists like Jung may be more sensitive to this issue due to their field of study. Schrödinger also recognizes the danger of a rapid withdrawal from the ancient position that the mind and soul are interconnected with matter. However, he does not directly discuss determinism and free will in this passage. Instead, he emphasizes the need for the relatively new science of psychology to have living-space and reconsider the initial gambit, which implies a consideration of both material and non-material aspects of reality.\"]"
            ]
          },
          "metadata": {},
          "execution_count": 34
        }
      ]
    },
    {
      "cell_type": "code",
      "source": [
        "query = \"Is Life Based on the Laws of Physics? Give your own thoughts about this in the end.\"\n",
        "\n",
        "llm_response = qa_chain(query)\n",
        "llm_response['result'].split('\\n')"
      ],
      "metadata": {
        "colab": {
          "base_uri": "https://localhost:8080/"
        },
        "id": "VzRW5NSSk952",
        "outputId": "bb9577cb-8fdd-447b-9749-18b186fdad33"
      },
      "execution_count": 35,
      "outputs": [
        {
          "output_type": "stream",
          "name": "stderr",
          "text": [
            "/usr/local/lib/python3.10/dist-packages/transformers/generation/configuration_utils.py:392: UserWarning: `do_sample` is set to `False`. However, `temperature` is set to `0.2` -- this flag is only used in sample-based generation modes. You should set `do_sample=True` or unset `temperature`.\n",
            "  warnings.warn(\n",
            "Setting `pad_token_id` to `eos_token_id`:2 for open-end generation.\n"
          ]
        },
        {
          "output_type": "execute_result",
          "data": {
            "text/plain": [
              "[' According to Erwin Schrödinger, life is based on the laws of physics but it requires a new type of physical law to explain its behavior. He believes that living matter has a unique structure that cannot be fully understood through the ordinary laws of physics alone. While the foundation of biology may not have been absolutely essential to dig up the deep roots and find the picture on quantum mechanics, Schrödinger strongly insists on the quantum-mechanical point of view because he believes that it provides a more complete understanding of the biological world. However, he also acknowledges that this new type of physical law is not yet fully understood and may require non-physical or super-physical elements to explain certain aspects of life. In summary, while the laws of physics provide a foundation for understanding life, they do not fully explain its complex behaviors and require a new type of physical law to provide a complete understanding.',\n",
              " '',\n",
              " 'My Thoughts: I agree with Schrödinger that the laws of physics provide a foundation for understanding life, but I also believe that there is more to life than what can be explained by physics alone. While quantum mechanics offers some insights into the behavior of biological systems, it does not fully capture the complexity and emergent properties of living organisms. I think that a truly comprehensive understanding of life will require an interdisciplinary approach that combines insights from physics, chemistry, biology, and other fields, as well as an appreciation for the unique properties of living systems that go beyond the laws of physics. Ultimately, I believe that the study of life is an ongoing process of discovery and exploration, and that new discoveries and insights will continue to challenge and expand our understanding of the natural world.']"
            ]
          },
          "metadata": {},
          "execution_count": 35
        }
      ]
    },
    {
      "cell_type": "markdown",
      "source": [
        "## RAG with better prompting"
      ],
      "metadata": {
        "id": "0HGp-mdOnUHQ"
      }
    },
    {
      "cell_type": "code",
      "source": [
        "## Default LLaMA-2 prompt style // taken from example that used Llama2 and not Mistral-7b\n",
        "## refs:\n",
        "## https://github.com/jai-llm/RAG_Docs_LLaMA2/blob/main/RAG_HastieBooks_chromaDB_V3.ipynb\n",
        "## model_id = \"TheBloke/Llama-2-7b-Chat-GPTQ\"\n",
        "\n",
        "B_INST, E_INST = \"[INST]\", \"[/INST]\"\n",
        "B_SYS, E_SYS = \"<>\\n\", \"\\n<>\\n\\n\"\n",
        "DEFAULT_SYSTEM_PROMPT = \"\"\"\\\n",
        "You are a helpful, respectful and honest assistant. Always answer as helpfully as possible, while being safe. Your answers should not include any harmful, unethical, racist, sexist, toxic, dangerous, or illegal content. Please ensure that your responses are socially unbiased and positive in nature.\n",
        "\n",
        "If a question does not make any sense, or is not factually coherent, explain why instead of answering something not correct. If you don't know the answer to a question, please don't share false information.\"\"\"\n",
        "\n",
        "def get_prompt(instruction, new_system_prompt=DEFAULT_SYSTEM_PROMPT ):\n",
        "    SYSTEM_PROMPT = B_SYS + new_system_prompt + E_SYS\n",
        "    prompt_template =  B_INST + SYSTEM_PROMPT + instruction + E_INST\n",
        "    return prompt_template"
      ],
      "metadata": {
        "id": "ajtwf5cTk93P"
      },
      "execution_count": 37,
      "outputs": []
    },
    {
      "cell_type": "code",
      "source": [
        "sys_prompt = \"\"\"You are a helpful, respectful and honest assistant. Always answer as helpfully as possible using the context text provided. Your answers should only answer the question once and not have any text after the answer is done.\n",
        "\n",
        "If a question does not make any sense, or is not factually coherent, explain why instead of answering something not correct. If you don't know the answer to a question, please don't share false information. \"\"\"\n",
        "\n",
        "instruction = \"\"\"CONTEXT:/n/n {context}/n\n",
        "\n",
        "Question: {question}\"\"\"\n",
        "\n",
        "get_prompt(instruction, sys_prompt)"
      ],
      "metadata": {
        "colab": {
          "base_uri": "https://localhost:8080/",
          "height": 70
        },
        "id": "7gsjZ71xnbZp",
        "outputId": "716203c2-cabb-4253-dbf8-30c93ceb6c9f"
      },
      "execution_count": 38,
      "outputs": [
        {
          "output_type": "execute_result",
          "data": {
            "text/plain": [
              "\"[INST]<>\\nYou are a helpful, respectful and honest assistant. Always answer as helpfully as possible using the context text provided. Your answers should only answer the question once and not have any text after the answer is done.\\n\\nIf a question does not make any sense, or is not factually coherent, explain why instead of answering something not correct. If you don't know the answer to a question, please don't share false information. \\n<>\\n\\nCONTEXT:/n/n {context}/n\\n\\nQuestion: {question}[/INST]\""
            ],
            "application/vnd.google.colaboratory.intrinsic+json": {
              "type": "string"
            }
          },
          "metadata": {},
          "execution_count": 38
        }
      ]
    },
    {
      "cell_type": "code",
      "source": [
        "prompt_template = get_prompt(instruction, sys_prompt)\n",
        "\n",
        "mistral_prompt = PromptTemplate(\n",
        "    template=prompt_template, input_variables=[\"context\", \"question\"]\n",
        ")"
      ],
      "metadata": {
        "id": "RLplZuTEnbWw"
      },
      "execution_count": 39,
      "outputs": []
    },
    {
      "cell_type": "code",
      "source": [
        "chain_type_kwargs = {\"prompt\": mistral_prompt}"
      ],
      "metadata": {
        "id": "7RmcCKx1nbUK"
      },
      "execution_count": 40,
      "outputs": []
    },
    {
      "cell_type": "code",
      "source": [
        "retriever = vectordb.as_retriever(search_kwargs={\"k\": 5})"
      ],
      "metadata": {
        "id": "ChliuYoKnbRn"
      },
      "execution_count": 41,
      "outputs": []
    },
    {
      "cell_type": "code",
      "source": [
        "# create the chain to answer questions\n",
        "qa_chain = RetrievalQA.from_chain_type(llm=response_generation_llm,\n",
        "                                       chain_type=\"stuff\",\n",
        "                                       retriever=retriever,\n",
        "                                       chain_type_kwargs=chain_type_kwargs,\n",
        "                                       return_source_documents=True)"
      ],
      "metadata": {
        "id": "a47UljwTnr3S"
      },
      "execution_count": 42,
      "outputs": []
    },
    {
      "cell_type": "code",
      "source": [
        "## Cite sources\n",
        "def wrap_text_preserve_newlines(text, width=110):\n",
        "    # Split the input text into lines based on newline characters\n",
        "    lines = text.split('\\n')\n",
        "\n",
        "    # Wrap each line individually\n",
        "    wrapped_lines = [textwrap.fill(line, width=width) for line in lines]\n",
        "\n",
        "    # Join the wrapped lines back together using newline characters\n",
        "    wrapped_text = '\\n'.join(wrapped_lines)\n",
        "\n",
        "    return wrapped_text\n",
        "\n",
        "def process_llm_response(llm_response):\n",
        "    print(wrap_text_preserve_newlines(llm_response['result']))\n",
        "    print('\\n\\nSources:')\n",
        "    for source in llm_response[\"source_documents\"]:\n",
        "        print(source.metadata['source'])"
      ],
      "metadata": {
        "id": "TuGhTi8znr02"
      },
      "execution_count": 43,
      "outputs": []
    },
    {
      "cell_type": "markdown",
      "source": [
        "\n",
        "#### Use Prompted RAG to Answer Some contextual Questions\n",
        "\n",
        "RAG with better prompting gives us good responses. It figures out we are talking about specifically.\n",
        "\n",
        "It also provides the source chunks we used to provide the answer which makes it easier to verify the response.\n"
      ],
      "metadata": {
        "id": "MPbJpp2Hn0Qx"
      }
    },
    {
      "cell_type": "code",
      "source": [
        "# Example 1\n",
        "\n",
        "query = \"What is Entropy? Explain in detail what Schrodinger is talking about in this context.\"\n",
        "\n",
        "llm_response = qa_chain(query)\n",
        "process_llm_response(llm_response)"
      ],
      "metadata": {
        "colab": {
          "base_uri": "https://localhost:8080/"
        },
        "id": "Yj8TFXFinryV",
        "outputId": "479cfa8d-614f-437b-bafa-86e81ed42bba"
      },
      "execution_count": 44,
      "outputs": [
        {
          "output_type": "stream",
          "name": "stderr",
          "text": [
            "/usr/local/lib/python3.10/dist-packages/transformers/generation/configuration_utils.py:392: UserWarning: `do_sample` is set to `False`. However, `temperature` is set to `0.2` -- this flag is only used in sample-based generation modes. You should set `do_sample=True` or unset `temperature`.\n",
            "  warnings.warn(\n",
            "Setting `pad_token_id` to `eos_token_id`:2 for open-end generation.\n"
          ]
        },
        {
          "output_type": "stream",
          "name": "stdout",
          "text": [
            " Entropy is a physical concept described as the measure of disorder or randomness in a system. In this\n",
            "context, Erwin Schrödinger is discussing the statistical meaning of entropy, which was revealed through the\n",
            "investigations of Ludwig Boltzmann and Gibbs in statistical physics. Entropy is quantitatively expressed as\n",
            "klogD, where k is the Boltzmann constant and D is a quantitative measure of atomistic disorder of the body in\n",
            "question. The disorder it indicates is partly that of heat, such as when a solid melts and its entropy\n",
            "increases due to the heat absorbed. However, the striking difference between an organism and other systems\n",
            "lies in their behavior at absolute zero temperature, where molecular disorder has no bearing on physical\n",
            "events. This fact was discovered experimentally by Walther Nernst and is known as Nernst's Theorem or the\n",
            "Third Law of Thermodynamics.\n",
            "\n",
            "\n",
            "Sources:\n",
            "docs/what-is-life.pdf\n",
            "docs/what-is-life.pdf\n",
            "docs/what-is-life.pdf\n",
            "docs/what-is-life.pdf\n",
            "docs/what-is-life.pdf\n"
          ]
        }
      ]
    },
    {
      "cell_type": "code",
      "source": [
        "# Example 2\n",
        "## relevant question for the Feynman Lectures textbook\n",
        "\n",
        "query = \"What is Conservation of Energy?\"\n",
        "\n",
        "llm_response = qa_chain(query)\n",
        "process_llm_response(llm_response)"
      ],
      "metadata": {
        "colab": {
          "base_uri": "https://localhost:8080/"
        },
        "id": "4c225OcApCse",
        "outputId": "c2fe7ba2-397e-4f0a-fc37-70051238f7b0"
      },
      "execution_count": 45,
      "outputs": [
        {
          "output_type": "stream",
          "name": "stderr",
          "text": [
            "/usr/local/lib/python3.10/dist-packages/transformers/generation/configuration_utils.py:392: UserWarning: `do_sample` is set to `False`. However, `temperature` is set to `0.2` -- this flag is only used in sample-based generation modes. You should set `do_sample=True` or unset `temperature`.\n",
            "  warnings.warn(\n",
            "Setting `pad_token_id` to `eos_token_id`:2 for open-end generation.\n"
          ]
        },
        {
          "output_type": "stream",
          "name": "stdout",
          "text": [
            " The Conservation of Energy is a fundamental law of physics stating that the total energy of a closed system\n",
            "remains constant, regardless of the changes that occur within the system. It is a mathematical principle that\n",
            "can be expressed as a numerical quantity, which does not change when something happens. Energy can exist in\n",
            "various forms such as gravitational, kinetic, heat, elastic, electrical, chemical, radiant, nuclear, and mass\n",
            "energy. The total energy of a system is calculated by adding up the formulas for each type of energy, with the\n",
            "exception of energy going in or out of the system.\n",
            "\n",
            "\n",
            "Sources:\n",
            "docs/feynman-lectures.pdf\n",
            "docs/archive-feynman-lectures.pdf\n",
            "docs/archive-feynman-lectures.pdf\n",
            "docs/feynman-lectures.pdf\n",
            "docs/archive-feynman-lectures.pdf\n"
          ]
        }
      ]
    },
    {
      "cell_type": "markdown",
      "source": [
        "## Alternative approach\n",
        "\n",
        "Create PromptTemplate and LLMChain\n",
        "\n",
        "refs:\n",
        "\n",
        "[blog/guide: (Part 2) Build a Conversational RAG with Mistral-7B and LangChain: Madhav Thaker](https://medium.com/@thakermadhav/part-2-build-a-conversational-rag-with-langchain-and-mistral-7b-6a4ebe497185)\n",
        "\n",
        "[github: madhavthaker1 / llm/rag/conversational_rag.ipynb](https://github.com/madhavthaker1/llm/blob/main/rag/conversational_rag.ipynb)"
      ],
      "metadata": {
        "id": "p5AdtHYtpyxj"
      }
    },
    {
      "cell_type": "code",
      "source": [
        "# imports\n",
        "\n",
        "from langchain.schema import format_document\n",
        "from langchain_core.messages import get_buffer_string\n",
        "from langchain_core.runnables import RunnableLambda, RunnablePassthrough\n",
        "from langchain.memory import ConversationBufferMemory\n",
        "from langchain.prompts.prompt import PromptTemplate\n",
        "from langchain_core.prompts.chat import ChatPromptTemplate\n",
        "\n",
        "from operator import itemgetter"
      ],
      "metadata": {
        "id": "tj0mr-q-qxP-"
      },
      "execution_count": 46,
      "outputs": []
    },
    {
      "cell_type": "markdown",
      "source": [
        "### Prompt template for instructing with follow up questions"
      ],
      "metadata": {
        "id": "n0pCe6J57uTG"
      }
    },
    {
      "cell_type": "code",
      "source": [
        "_template = \"\"\"\n",
        "[INST]\n",
        "Given the following conversation and a follow up question, rephrase the follow up question to be a standalone question, in its original language, that can be used to query a Chroma DB vector index. This query will be used to retrieve documents with additional context.\n",
        "\n",
        "Let me share a couple examples that will be important.\n",
        "\n",
        "If you do not see any chat history, you MUST return the \"Follow Up Input\" as is:\n",
        "\n",
        "```\n",
        "Chat History:\n",
        "\n",
        "Follow Up Input: What is Entropy?\n",
        "Standalone Question:\n",
        "What is Entropy?\n",
        "```\n",
        "\n",
        "If this is the second question onwards, you should properly rephrase the question like this:\n",
        "\n",
        "```\n",
        "Chat History:\n",
        "Human: What is Entropy?\n",
        "AI:\n",
        "Entropy is a physical property measured in calories per degree Celsius (cal/oC) that quantifies the disorder or randomness of a system.\n",
        "\n",
        "Follow Up Input: How is it measured?\n",
        "Standalone Question:\n",
        "How is Entropy measured?\n",
        "```\n",
        "\n",
        "Now, with those examples, here is the actual chat history and input question.\n",
        "\n",
        "Chat History:\n",
        "{chat_history}\n",
        "\n",
        "Follow Up Input: {question}\n",
        "Standalone question:\n",
        "[your response here]\n",
        "[/INST]\n",
        "\"\"\"\n",
        "\n",
        "CONDENSE_QUESTION_PROMPT = PromptTemplate.from_template(_template)"
      ],
      "metadata": {
        "id": "oveNh87SqxLR"
      },
      "execution_count": 47,
      "outputs": []
    },
    {
      "cell_type": "code",
      "source": [
        "template = \"\"\"\n",
        "[INST]\n",
        "Answer the question based only on the following context:\n",
        "{context}\n",
        "\n",
        "Question: {question}\n",
        "[/INST]\n",
        "\"\"\"\n",
        "\n",
        "ANSWER_PROMPT = ChatPromptTemplate.from_template(template)"
      ],
      "metadata": {
        "id": "MK9HADVAqxDD"
      },
      "execution_count": 48,
      "outputs": []
    },
    {
      "cell_type": "code",
      "source": [
        "DEFAULT_DOCUMENT_PROMPT = PromptTemplate.from_template(template=\"{page_content}\")\n",
        "\n",
        "\n",
        "def _combine_documents(\n",
        "    docs, document_prompt=DEFAULT_DOCUMENT_PROMPT, document_separator=\"\\n\\n\"\n",
        "):\n",
        "    doc_strings = [format_document(doc, document_prompt) for doc in docs]\n",
        "    return document_separator.join(doc_strings)"
      ],
      "metadata": {
        "id": "yWFKID5RqxAe"
      },
      "execution_count": 49,
      "outputs": []
    },
    {
      "cell_type": "markdown",
      "source": [
        "Chain with conversational memory, and Standalone Questions Generation Chain"
      ],
      "metadata": {
        "id": "UUf2Oi8e9Kg4"
      }
    },
    {
      "cell_type": "code",
      "source": [
        "# Instantiate ConversationBufferMemory\n",
        "memory = ConversationBufferMemory(\n",
        " return_messages=True, output_key=\"answer\", input_key=\"question\"\n",
        ")\n",
        "\n",
        "# First we add a step to load memory\n",
        "# This adds a \"memory\" key to the input object\n",
        "loaded_memory = RunnablePassthrough.assign(\n",
        "    chat_history=RunnableLambda(memory.load_memory_variables) | itemgetter(\"history\"),\n",
        ")\n",
        "# Now we calculate the standalone question\n",
        "standalone_question = {\n",
        "    \"standalone_question\": {\n",
        "        \"question\": lambda x: x[\"question\"],\n",
        "        \"chat_history\": lambda x: get_buffer_string(x[\"chat_history\"]),\n",
        "    }\n",
        "    | CONDENSE_QUESTION_PROMPT\n",
        "    | standalone_query_generation_llm,\n",
        "}\n",
        "# Now we retrieve the documents\n",
        "retrieved_documents = {\n",
        "    \"docs\": itemgetter(\"standalone_question\") | retriever,\n",
        "    \"question\": lambda x: x[\"standalone_question\"],\n",
        "}\n",
        "# Now we construct the inputs for the final prompt\n",
        "final_inputs = {\n",
        "    \"context\": lambda x: _combine_documents(x[\"docs\"]),\n",
        "    \"question\": itemgetter(\"question\"),\n",
        "}\n",
        "# And finally, we do the part that returns the answers\n",
        "answer = {\n",
        "    \"answer\": final_inputs | ANSWER_PROMPT | response_generation_llm,\n",
        "    \"question\": itemgetter(\"question\"),\n",
        "    \"context\": final_inputs[\"context\"]\n",
        "}\n",
        "# And now we put it all together!\n",
        "final_chain = loaded_memory | standalone_question | retrieved_documents | answer"
      ],
      "metadata": {
        "id": "QocPoyw8qw9_"
      },
      "execution_count": 50,
      "outputs": []
    },
    {
      "cell_type": "code",
      "source": [
        "def call_conversational_rag(question, chain, memory):\n",
        "    \"\"\"\n",
        "    Calls a conversational RAG (Retrieval-Augmented Generation) model to generate an answer to a given question.\n",
        "\n",
        "    This function sends a question to the RAG model, retrieves the answer, and stores the question-answer pair in memory\n",
        "    for context in future interactions.\n",
        "\n",
        "    Parameters:\n",
        "    question (str): The question to be answered by the RAG model.\n",
        "    chain (LangChain object): An instance of LangChain which encapsulates the RAG model and its functionality.\n",
        "    memory (Memory object): An object used for storing the context of the conversation.\n",
        "\n",
        "    Returns:\n",
        "    dict: A dictionary containing the generated answer from the RAG model.\n",
        "    \"\"\"\n",
        "\n",
        "    # Prepare the input for the RAG model\n",
        "    inputs = {\"question\": question}\n",
        "\n",
        "    # Invoke the RAG model to get an answer\n",
        "    result = chain.invoke(inputs)\n",
        "\n",
        "    # Save the current question and its answer to memory for future context\n",
        "    memory.save_context(inputs, {\"answer\": result[\"answer\"]})\n",
        "\n",
        "    # Return the result\n",
        "    return result"
      ],
      "metadata": {
        "id": "mkkWwR7MrAcq"
      },
      "execution_count": 51,
      "outputs": []
    },
    {
      "cell_type": "markdown",
      "source": [
        "### Ask yer' questions"
      ],
      "metadata": {
        "id": "Pe1nVKKGukZ4"
      }
    },
    {
      "cell_type": "code",
      "source": [
        "# Initial Question\n",
        "\n",
        "question = \"What is the Hereditary Mechanism?\"\n",
        "\n",
        "result = call_conversational_rag(question, final_chain, memory)\n",
        "\n",
        "pprint(result)"
      ],
      "metadata": {
        "colab": {
          "base_uri": "https://localhost:8080/"
        },
        "id": "h5ps25MyrAZg",
        "outputId": "92d7e542-9be4-423a-95c6-633364246d86"
      },
      "execution_count": 52,
      "outputs": [
        {
          "output_type": "stream",
          "name": "stderr",
          "text": [
            "/usr/local/lib/python3.10/dist-packages/transformers/generation/configuration_utils.py:392: UserWarning: `do_sample` is set to `False`. However, `temperature` is set to `0.0` -- this flag is only used in sample-based generation modes. You should set `do_sample=True` or unset `temperature`.\n",
            "  warnings.warn(\n",
            "Setting `pad_token_id` to `eos_token_id`:2 for open-end generation.\n",
            "/usr/local/lib/python3.10/dist-packages/transformers/generation/configuration_utils.py:392: UserWarning: `do_sample` is set to `False`. However, `temperature` is set to `0.2` -- this flag is only used in sample-based generation modes. You should set `do_sample=True` or unset `temperature`.\n",
            "  warnings.warn(\n",
            "Setting `pad_token_id` to `eos_token_id`:2 for open-end generation.\n"
          ]
        },
        {
          "output_type": "stream",
          "name": "stdout",
          "text": [
            "{'answer': 'The hereditary mechanism referred to in genetics is the '\n",
            "           'chromosomes, which carry genetic information from parents to '\n",
            "           'offspring. However, the text discusses how behavior and skills can '\n",
            "           'also be inherited and contribute to adaptive evolution, even if '\n",
            "           'they are not directly transmitted through physical changes in the '\n",
            "           'chromosomes. Instead, these behaviors and skills can be learned '\n",
            "           'and passed down through teaching or other means, opening the door '\n",
            "           'for future inheritable mutations to be selected and integrated '\n",
            "           'into the species.',\n",
            " 'context': 'bythehereditary substance, thechromosomes. Atfirst,\\n'\n",
            "            'therefore, itiscertainly notfixedgenetically anditisdifficult\\n'\n",
            "            'toseehowitshouldevercometobeincorporated inthe\\n'\n",
            "            'hereditary treasure. Thisisanimportant problem initself.\\n'\n",
            "            'Forwedoknowthathabitsareinherited as,forinstance,\\n'\n",
            "            'habitsofnestbuilding inthebirds,thevarious habitsof\\n'\n",
            "            'cleanliness weobserve inourdogsandcats,tomention afew\\n'\n",
            "            'obvious examples. Ifthiscouldnotbeunderstood along\\n'\n",
            "            'orthodox Darwinian lines,Darwinism wouldhavetobe\\n'\n",
            "            'abandoned. Thequestion becomes ofsingular significance in\\n'\n",
            "            'itsapplication toman,sincewewishtoinferthatthestriving\\n'\n",
            "            'andlabouring ofamanduringhislifetime constitute an\\n'\n",
            "            'integrating contribution tothedevelopment ofthespecies, in\\n'\n",
            "            'thequiteproperbiological sense.Ibelievethesituation tobe,\\n'\n",
            "            'briefly,asfollows.\\n'\n",
            "            'According toourassumptions thebehaviour changes paral\\xad\\n'\n",
            "            'lelthoseofthephysique, firstasaconsequence ofachance\\n'\n",
            "            'change inthelatter,butverysoondirecting thefurther\\n'\n",
            "            'selectional mechanism intodefinite channels, because,\\n'\n",
            "            '\\n'\n",
            "            'bythehereditary substance, thechromosomes. Atfirst,\\n'\n",
            "            'therefore, itiscertainly notfixedgenetically anditisdifficult\\n'\n",
            "            'toseehowitshouldevercometobeincorporated inthe\\n'\n",
            "            'hereditary treasure. Thisisanimportant problem initself.\\n'\n",
            "            'Forwedoknowthathabitsareinherited as,forinstance,\\n'\n",
            "            'habitsofnestbuilding inthebirds,thevarious habitsof\\n'\n",
            "            'cleanliness weobserve inourdogsandcats,tomention afew\\n'\n",
            "            'obvious examples. Ifthiscouldnotbeunderstood along\\n'\n",
            "            'orthodox Darwinian lines,Darwinism wouldhavetobe\\n'\n",
            "            'abandoned. Thequestion becomes ofsingular significance in\\n'\n",
            "            'itsapplication toman,sincewewishtoinferthatthestriving\\n'\n",
            "            'andlabouring ofamanduringhislifetime constitute an\\n'\n",
            "            'integrating contribution tothedevelopment ofthespecies, in\\n'\n",
            "            'thequiteproperbiological sense.Ibelievethesituation tobe,\\n'\n",
            "            'briefly,asfollows.\\n'\n",
            "            'According toourassumptions thebehaviour changes paral\\xad\\n'\n",
            "            'lelthoseofthephysique, firstasaconsequence ofachance\\n'\n",
            "            'change inthelatter,butverysoondirecting thefurther\\n'\n",
            "            'selectional mechanism intodefinite channels, because,\\n'\n",
            "            '\\n'\n",
            "            '112 ERWIN SCHRODINGER\\n'\n",
            "            'thephysical changeintheparentsthatmodifies -directlyor\\n'\n",
            "            'indirectly, byselection -theirbehaviour; andthischangeof\\n'\n",
            "            'behaviour is,byexample orteaching orevenmoreprimi\\xad\\n'\n",
            "            'tively,transmitted totheprogeny, alongwiththephysical\\n'\n",
            "            'changecarriedbythegenom.Nay,evenifthephysical change\\n'\n",
            "            'isnotyetaninheritable one,thetransmission oftheinduced\\n'\n",
            "            \"behaviour 'byteaching' canbeahighlyefficient evolutionary\\n\"\n",
            "            'factor,because itthrowsthedooropentoreceivefuture\\n'\n",
            "            'inheritable mutations withaprepared readiness tomakethe\\n'\n",
            "            'bestuseofthemandthustosubjectthemtointenseselection.\\n'\n",
            "            'GENETIC FIXATION OFHABITS ANDSKILLS\\n'\n",
            "            'Onemightobjectthatwhatwehaveheredescribed may\\n'\n",
            "            'happenoccasionally, butcannotcontinue indefinitely toform\\n'\n",
            "            'theessential mechanism ofadaptive evolution. Forthechange\\n'\n",
            "            'ofbehaviour itselfisnottransmitted byphysical inheritance,\\n'\n",
            "            'bythehereditary substance, thechromosomes. Atfirst,\\n'\n",
            "            'therefore, itiscertainly notfixedgenetically anditisdifficult\\n'\n",
            "            'toseehowitshouldevercometobeincorporated inthe\\n'\n",
            "            '\\n'\n",
            "            '112 ERWIN SCHRODINGER\\n'\n",
            "            'thephysical changeintheparentsthatmodifies -directlyor\\n'\n",
            "            'indirectly, byselection -theirbehaviour; andthischangeof\\n'\n",
            "            'behaviour is,byexample orteaching orevenmoreprimi\\xad\\n'\n",
            "            'tively,transmitted totheprogeny, alongwiththephysical\\n'\n",
            "            'changecarriedbythegenom.Nay,evenifthephysical change\\n'\n",
            "            'isnotyetaninheritable one,thetransmission oftheinduced\\n'\n",
            "            \"behaviour 'byteaching' canbeahighlyefficient evolutionary\\n\"\n",
            "            'factor,because itthrowsthedooropentoreceivefuture\\n'\n",
            "            'inheritable mutations withaprepared readiness tomakethe\\n'\n",
            "            'bestuseofthemandthustosubjectthemtointenseselection.\\n'\n",
            "            'GENETIC FIXATION OFHABITS ANDSKILLS\\n'\n",
            "            'Onemightobjectthatwhatwehaveheredescribed may\\n'\n",
            "            'happenoccasionally, butcannotcontinue indefinitely toform\\n'\n",
            "            'theessential mechanism ofadaptive evolution. Forthechange\\n'\n",
            "            'ofbehaviour itselfisnottransmitted byphysical inheritance,\\n'\n",
            "            'bythehereditary substance, thechromosomes. Atfirst,\\n'\n",
            "            'therefore, itiscertainly notfixedgenetically anditisdifficult\\n'\n",
            "            'toseehowitshouldevercometobeincorporated inthe\\n'\n",
            "            '\\n'\n",
            "            'intrudes intothechromosome structure (orwhatnot)and\\n'\n",
            "            \"acquires 'loci'there.Itistheneworgansthemselves (andthey\\n\"\n",
            "            'dobecome genetically fixed)thatcarryalongwiththemthe\\n'\n",
            "            'habitandthewayofusingthem.Selection wouldbepowerless\\n'\n",
            "            \"in'producing' aneworganifselection werenotaidedallalong\\n\"\n",
            "            \"bytheorganism's makingappropriate useofit.Andthisis\\n\"\n",
            "            'veryessential. Forthus,thetwothingsgoquiteparalleland\\n'\n",
            "            'areultimately, orindeedateverystage,fixedgenetically as\\n'\n",
            "            'onething:ausedorgan-asifLamarck wereright.\\n'\n",
            "            'Itisilluminating tocompare thisnaturalprocesswiththe\\n'\n",
            "            'makingofaninstrument byman.Atfirstsightthereappears\\n'\n",
            "            'tobeamarked contrast. Ifwemanufacture adelicate\\n'\n",
            "            'mechanism, weshouldinmostcasesspoilitifwewere\\n'\n",
            "            'impatient andtriedtouseitagainandagainlongbeforeitis\\n'\n",
            "            'finished. Nature, oneisinclined tosay,proceeds differently.\\n'\n",
            "            'Shecannotproduce aneworganism anditsorgansotherwise\\n'\n",
            "            'thanwhilsttheyarecontinually used,probed, examined with\\n'\n",
            "            'regardtotheirefficiency. Butactually thisparallel iswrong.',\n",
            " 'question': 'What is the hereditary mechanism referred to in genetics?'}\n"
          ]
        }
      ]
    },
    {
      "cell_type": "code",
      "source": [
        "# follow up question with generic mention of parents to check if model understands context\n",
        "\n",
        "question = \"What is the siginificance of the chromosomes of the parents?\"\n",
        "\n",
        "pprint(call_conversational_rag(question, final_chain, memory))"
      ],
      "metadata": {
        "colab": {
          "base_uri": "https://localhost:8080/"
        },
        "id": "uMGFCoQlseh3",
        "outputId": "99572b5c-a8b8-4582-e954-c9c99620b186"
      },
      "execution_count": 54,
      "outputs": [
        {
          "output_type": "stream",
          "name": "stderr",
          "text": [
            "/usr/local/lib/python3.10/dist-packages/transformers/generation/configuration_utils.py:392: UserWarning: `do_sample` is set to `False`. However, `temperature` is set to `0.0` -- this flag is only used in sample-based generation modes. You should set `do_sample=True` or unset `temperature`.\n",
            "  warnings.warn(\n",
            "Setting `pad_token_id` to `eos_token_id`:2 for open-end generation.\n",
            "/usr/local/lib/python3.10/dist-packages/transformers/generation/configuration_utils.py:392: UserWarning: `do_sample` is set to `False`. However, `temperature` is set to `0.2` -- this flag is only used in sample-based generation modes. You should set `do_sample=True` or unset `temperature`.\n",
            "  warnings.warn(\n",
            "Setting `pad_token_id` to `eos_token_id`:2 for open-end generation.\n"
          ]
        },
        {
          "output_type": "stream",
          "name": "stdout",
          "text": [
            "{'answer': 'The text discusses the role of chromosomes in heredity and how '\n",
            "           'they are inherited from parents to offspring during reproduction. '\n",
            "           'The author explains that each parent contributes half of their '\n",
            "           'genetic material to their child through the process of meiosis, '\n",
            "           'where chromosomes are separated and mixed randomly. This results '\n",
            "           'in a unique combination of genetic information in each offspring. '\n",
            "           'The text also mentions the concept of crossing-over, where '\n",
            "           'segments of chromosomes can exchange between homologous '\n",
            "           'chromosomes during meiosis, further adding to the genetic '\n",
            "           'diversity of offspring. The author emphasizes that the important '\n",
            "           'event in heredity is not fertilization but meiosis, as the '\n",
            "           'specific combination of chromosomes an individual receives is '\n",
            "           'determined at this stage and cannot be altered afterwards.',\n",
            " 'context': \"themeiosis takingplaceinmyfather's bodyinNovember\\n\"\n",
            "            '1886andproducing thespermatozoon whichafewdayslater\\n'\n",
            "            'wastobeeffective inbegetting me.Exactly thesamestory\\n'\n",
            "            'couldberepeated aboutchromosomes Nos.1,2,3,...,24of\\n'\n",
            "            'mypaternal set,andmutatismutandis abouteveryone ofmy\\n'\n",
            "            'maternal chromosomes. Moreover, allthe48issuesare\\n'\n",
            "            'entirelyindependent. Evenifitwereknownthatmypaternal\\n'\n",
            "            'chromosome No.5camefrommygrandfather Josef\\n'\n",
            "            'Schrodinger, theNO.7stillstandsanequalchanceofbeing\\n'\n",
            "            'eitheralsofromhim,orfromhiswifeMarie,neeBogner.\\n'\n",
            "            'CROSSING-OVER. LOCATION OFPROPERTIES\\n'\n",
            "            'Butpurechancehasbeengivenevenawiderrangeinmixing\\n'\n",
            "            'thegrandparental inheritance intheoffspring thanwould\\n'\n",
            "            'appearfromthepreceding description, inwhichithasbeen\\n'\n",
            "            \"'Atanyrate,everywoman.Toavoidprolixity, Ihaveexcluded \"\n",
            "            'fromthissummary the\\n'\n",
            "            'highlyinteresting sphereofsexdetermination andsex-linked '\n",
            "            'properties (as,for\\n'\n",
            "            'example, so-called colourblindness).\\n'\n",
            "            '\\n'\n",
            "            \"themeiosis takingplaceinmyfather's bodyinNovember\\n\"\n",
            "            '1886andproducing thespermatozoon whichafewdayslater\\n'\n",
            "            'wastobeeffective inbegetting me.Exactly thesamestory\\n'\n",
            "            'couldberepeated aboutchromosomes Nos.1,2,3,...,24of\\n'\n",
            "            'mypaternal set,andmutatismutandis abouteveryone ofmy\\n'\n",
            "            'maternal chromosomes. Moreover, allthe48issuesare\\n'\n",
            "            'entirelyindependent. Evenifitwereknownthatmypaternal\\n'\n",
            "            'chromosome No.5camefrommygrandfather Josef\\n'\n",
            "            'Schrodinger, theNO.7stillstandsanequalchanceofbeing\\n'\n",
            "            'eitheralsofromhim,orfromhiswifeMarie,neeBogner.\\n'\n",
            "            'CROSSING-OVER. LOCATION OFPROPERTIES\\n'\n",
            "            'Butpurechancehasbeengivenevenawiderrangeinmixing\\n'\n",
            "            'thegrandparental inheritance intheoffspring thanwould\\n'\n",
            "            'appearfromthepreceding description, inwhichithasbeen\\n'\n",
            "            \"'Atanyrate,everywoman.Toavoidprolixity, Ihaveexcluded \"\n",
            "            'fromthissummary the\\n'\n",
            "            'highlyinteresting sphereofsexdetermination andsex-linked '\n",
            "            'properties (as,for\\n'\n",
            "            'example, so-called colourblindness).\\n'\n",
            "            '\\n'\n",
            "            'ERWIN SCHRODINGER\\n'\n",
            "            'Fig.g.Inheritance ofamutation. Thestraight linesacrossindicate '\n",
            "            'the\\n'\n",
            "            'transferofachromosome, thedoubleonesthatofthemutated chromosome.\\n'\n",
            "            'Theunaccounted-for chromosomes ofthethirdgeneration comefromthe\\n'\n",
            "            'matesofthesecondgeneration, whicharenotincluded inthediagram.\\n'\n",
            "            'Theyaresupposed tobenon-relatives, freeofthemutation.\\n'\n",
            "            'Andsoitis.Itisimportant tostatethatweknowdefinitely\\n'\n",
            "            'thatitisachangeinonechromosome only,butnotinthe\\n'\n",
            "            \"corresponding 'locus'ofthehomologous chromosome. Fig.8\\n\"\n",
            "            'indicates thisschematically, thecrossdenoting themutated\\n'\n",
            "            'locus.Thefactthatonlyonechromosome isaffected is\\n'\n",
            "            \"revealed whenthemutated individual (oftencalled'mutant')\\n\"\n",
            "            'iscrossed withanon-mutated one.Forexactlyhalfofthe\\n'\n",
            "            'offspring exhibitthemutantcharacter andhalfthenormal\\n'\n",
            "            'one.Thatiswhatistobeexpected asaconsequence ofthe\\n'\n",
            "            'separation ofthetwochromosomes onmeiosisinthemutant\\xad\\n'\n",
            "            \"asshown,veryschematically, inFig.g.Thisisa'pedigree',\\n\"\n",
            "            'representing everyindividual (ofthreeconsecutive genera\\xad\\n'\n",
            "            '\\n'\n",
            "            'ERWIN SCHRODINGER\\n'\n",
            "            'Fig.g.Inheritance ofamutation. Thestraight linesacrossindicate '\n",
            "            'the\\n'\n",
            "            'transferofachromosome, thedoubleonesthatofthemutated chromosome.\\n'\n",
            "            'Theunaccounted-for chromosomes ofthethirdgeneration comefromthe\\n'\n",
            "            'matesofthesecondgeneration, whicharenotincluded inthediagram.\\n'\n",
            "            'Theyaresupposed tobenon-relatives, freeofthemutation.\\n'\n",
            "            'Andsoitis.Itisimportant tostatethatweknowdefinitely\\n'\n",
            "            'thatitisachangeinonechromosome only,butnotinthe\\n'\n",
            "            \"corresponding 'locus'ofthehomologous chromosome. Fig.8\\n\"\n",
            "            'indicates thisschematically, thecrossdenoting themutated\\n'\n",
            "            'locus.Thefactthatonlyonechromosome isaffected is\\n'\n",
            "            \"revealed whenthemutated individual (oftencalled'mutant')\\n\"\n",
            "            'iscrossed withanon-mutated one.Forexactlyhalfofthe\\n'\n",
            "            'offspring exhibitthemutantcharacter andhalfthenormal\\n'\n",
            "            'one.Thatiswhatistobeexpected asaconsequence ofthe\\n'\n",
            "            'separation ofthetwochromosomes onmeiosisinthemutant\\xad\\n'\n",
            "            \"asshown,veryschematically, inFig.g.Thisisa'pedigree',\\n\"\n",
            "            'representing everyindividual (ofthreeconsecutive genera\\xad\\n'\n",
            "            '\\n'\n",
            "            'ERWIN SCHRODINGER\\n'\n",
            "            'THEOUTSTANDING RELEVANCE OFTHE\\n'\n",
            "            'REDUCTIVE DIVISION\\n'\n",
            "            'Theimportant, thereallyfatefuleventintheprocess of\\n'\n",
            "            'reproduction oftheindividual isnotfertilization butmeiosis.\\n'\n",
            "            'Onesetofchromosomes isfromthefather,onefromthe\\n'\n",
            "            'mother. Neither chancenordestinycaninterfere withthat.\\n'\n",
            "            'Everymanlowesjusthalfofhisinheritance tohismother,\\n'\n",
            "            'halfofit tohisfather.Thatoneortheotherstrainseemsoften\\n'\n",
            "            'toprevailisduetootherreasonswhichweshallcometolater.\\n'\n",
            "            '(Sexitselfis,ofcourse,thesimplest instance ofsuchpreva\\xad\\n'\n",
            "            'lence.)\\n'\n",
            "            'Butwhenyoutracetheoriginofyourinheritance backto\\n'\n",
            "            'yourgrandparents, thecaseisdifferent. Letmefixattention\\n'\n",
            "            'onmypaternal setofchromosomes, inparticular ononeof\\n'\n",
            "            'them,sayNO.5.ItisafaithfulreplicaeitheroftheNO.5my\\n'\n",
            "            'fatherreceived fromhisfatheroroftheNO.5hehadreceived\\n'\n",
            "            'fromhismother.Theissuewasdecided bya50:50chancein\\n'\n",
            "            \"themeiosis takingplaceinmyfather's bodyinNovember\\n\"\n",
            "            '1886andproducing thespermatozoon whichafewdayslater\\n'\n",
            "            'wastobeeffective inbegetting me.Exactly thesamestory',\n",
            " 'question': 'The significance of the chromosomes of the parents in the '\n",
            "             'context of heredity is that they carry the genetic information '\n",
            "             'that is passed down to the offspring. This information '\n",
            "             'determines many of the physical and biological traits of the '\n",
            "             'organism, shaping its characteristics and contributing to its '\n",
            "             'evolution.'}\n"
          ]
        }
      ]
    },
    {
      "cell_type": "markdown",
      "source": [
        "## Ask questions with user input"
      ],
      "metadata": {
        "id": "qychH1uC-M0t"
      }
    },
    {
      "cell_type": "code",
      "source": [
        "print(\"Ask what you seek...\")\n",
        "user_input_question = input()\n",
        "print(\"You asked: \", user_input_question)\n",
        "\n",
        "print(\"Generated Response: \\n\")\n",
        "pprint(call_conversational_rag(user_input_question, final_chain, memory))"
      ],
      "metadata": {
        "colab": {
          "base_uri": "https://localhost:8080/"
        },
        "id": "EqI0Cdi3rEy8",
        "outputId": "fb188172-f24b-4bdb-9ad4-39ea24db6986"
      },
      "execution_count": 59,
      "outputs": [
        {
          "name": "stdout",
          "output_type": "stream",
          "text": [
            "Ask what you seek...\n",
            "What are the authors thoughts on science and religion?\n"
          ]
        },
        {
          "output_type": "stream",
          "name": "stderr",
          "text": [
            "/usr/local/lib/python3.10/dist-packages/transformers/generation/configuration_utils.py:392: UserWarning: `do_sample` is set to `False`. However, `temperature` is set to `0.0` -- this flag is only used in sample-based generation modes. You should set `do_sample=True` or unset `temperature`.\n",
            "  warnings.warn(\n",
            "Setting `pad_token_id` to `eos_token_id`:2 for open-end generation.\n"
          ]
        },
        {
          "output_type": "stream",
          "name": "stdout",
          "text": [
            "You asked:  What are the authors thoughts on science and religion?\n",
            "Generated Response: \n",
            "\n"
          ]
        },
        {
          "output_type": "stream",
          "name": "stderr",
          "text": [
            "/usr/local/lib/python3.10/dist-packages/transformers/pipelines/base.py:1123: UserWarning: You seem to be using the pipelines sequentially on GPU. In order to maximize efficiency please use a dataset\n",
            "  warnings.warn(\n",
            "/usr/local/lib/python3.10/dist-packages/transformers/generation/configuration_utils.py:392: UserWarning: `do_sample` is set to `False`. However, `temperature` is set to `0.2` -- this flag is only used in sample-based generation modes. You should set `do_sample=True` or unset `temperature`.\n",
            "  warnings.warn(\n",
            "Setting `pad_token_id` to `eos_token_id`:2 for open-end generation.\n"
          ]
        },
        {
          "output_type": "stream",
          "name": "stdout",
          "text": [
            "{'answer': 'You are correct that the provided chat history does not directly '\n",
            "           'discuss the relationship between science and religion. The passage '\n",
            "           \"primarily focuses on the author's autobiographical experiences and \"\n",
            "           'his philosophical conversations with his friend. While there are '\n",
            "           'references to religious topics and the influence they had on the '\n",
            "           \"author's life, there is no explicit discussion about how science \"\n",
            "           'relates to these beliefs or if science provides any insights into '\n",
            "           'religious matters.',\n",
            " 'context': 'Autobiographical Sketches\\n'\n",
            "            'Ilivedfarapartfrommybestfriend,actually theonlyclose\\n'\n",
            "            'friendIeverhad,forthegreaterpartofmylife.(Maybe that\\n'\n",
            "            'iswhyIhaveoftenbeenaccused offlirtatiousness insteadof\\n'\n",
            "            'truefriendship.) Hestudied biology (botany tobeexact);I\\n'\n",
            "            'physics. Andmanyanightwewouldstrollbackandforth\\n'\n",
            "            'between Gluckgasse andSchliisselgasse engrossed inphilo\\xad\\n'\n",
            "            'sophical conversation. Littledidweknowthenthatwhat\\n'\n",
            "            'seemedoriginal toushadoccupied greatmindsforcenturies\\n'\n",
            "            \"already. Don'tteachers alwaysdotheirbesttoavoidthese\\n\"\n",
            "            'topicsforfearthattheymightconflictwithreligious doctrines\\n'\n",
            "            'andcauseuncomfortable questions? Thisisthemainreason\\n'\n",
            "            'formyturningagainstreligion, whichhasneverdonemeany\\n'\n",
            "            'harm.\\n'\n",
            "            'Iamnotsurewhether itwasrightaftertheFirstWorld\\n'\n",
            "            'WarorduringthetimeIspentinZurich(1921-7) oreven\\n'\n",
            "            'laterinBerlin(1927-33) thatFranzel andIspentalong\\n'\n",
            "            'evening together again.Thesmallhoursofthemorning found\\n'\n",
            "            'usstilltalkinginacafeontheoutskirts ofVienna. Heseemed\\n'\n",
            "            'tohavechanged alotwiththeyears.Afterall,ourlettershad\\n'\n",
            "            '\\n'\n",
            "            'Autobiographical Sketches\\n'\n",
            "            'Ilivedfarapartfrommybestfriend,actually theonlyclose\\n'\n",
            "            'friendIeverhad,forthegreaterpartofmylife.(Maybe that\\n'\n",
            "            'iswhyIhaveoftenbeenaccused offlirtatiousness insteadof\\n'\n",
            "            'truefriendship.) Hestudied biology (botany tobeexact);I\\n'\n",
            "            'physics. Andmanyanightwewouldstrollbackandforth\\n'\n",
            "            'between Gluckgasse andSchliisselgasse engrossed inphilo\\xad\\n'\n",
            "            'sophical conversation. Littledidweknowthenthatwhat\\n'\n",
            "            'seemedoriginal toushadoccupied greatmindsforcenturies\\n'\n",
            "            \"already. Don'tteachers alwaysdotheirbesttoavoidthese\\n\"\n",
            "            'topicsforfearthattheymightconflictwithreligious doctrines\\n'\n",
            "            'andcauseuncomfortable questions? Thisisthemainreason\\n'\n",
            "            'formyturningagainstreligion, whichhasneverdonemeany\\n'\n",
            "            'harm.\\n'\n",
            "            'Iamnotsurewhether itwasrightaftertheFirstWorld\\n'\n",
            "            'WarorduringthetimeIspentinZurich(1921-7) oreven\\n'\n",
            "            'laterinBerlin(1927-33) thatFranzel andIspentalong\\n'\n",
            "            'evening together again.Thesmallhoursofthemorning found\\n'\n",
            "            'usstilltalkinginacafeontheoutskirts ofVienna. Heseemed\\n'\n",
            "            'tohavechanged alotwiththeyears.Afterall,ourlettershad\\n'\n",
            "            '\\n'\n",
            "            'theEast.Letmequoteasanexample outsidetheUpanishads\\n'\n",
            "            'anIslamic Persian mysticofthethirteenth century, Aziz\\n'\n",
            "            'Nasafi. IamtakingitfromapaperbyFritzMeyer! and\\n'\n",
            "            'translating fromhisGerman translation:\\n'\n",
            "            'Onthedeathofanylivingcreature thespiritreturnstothespiritual\\n'\n",
            "            'world,thebodytothebodilyworld.Inthishowever onlythebodies\\n'\n",
            "            'aresubjecttochange. Thespiritual worldisonesinglespiritwho\\n'\n",
            "            'standslikeuntoalightbehindthebodilyworldandwho,whenany\\n'\n",
            "            'singlecreature comesintobeing,shinesthrough itasthrough a\\n'\n",
            "            'window. According tothekindandsizeofthewindow lessormore\\n'\n",
            "            'lightenterstheworld.Thelightitselfhowever remains unchanged.\\n'\n",
            "            'TenyearsagoAldousHuxleypublished aprecious volume\\n'\n",
            "            'whichhecalledThePerennial Philosophy2 andwhichisan\\n'\n",
            "            'anthology fromthemysticsofthemostvarious periodsand\\n'\n",
            "            'themostvariouspeoples. Openitwhereyouwillandyoufind\\n'\n",
            "            'manybeautiful utterances ofasimilarkind.Youarestruckby\\n'\n",
            "            'themiraculous agreement between humans ofdifferent race,\\n'\n",
            "            \"different religion, knowing nothing abouteachother'sexist\\xad\\n\"\n",
            "            '\\n'\n",
            "            'theEast.Letmequoteasanexample outsidetheUpanishads\\n'\n",
            "            'anIslamic Persian mysticofthethirteenth century, Aziz\\n'\n",
            "            'Nasafi. IamtakingitfromapaperbyFritzMeyer! and\\n'\n",
            "            'translating fromhisGerman translation:\\n'\n",
            "            'Onthedeathofanylivingcreature thespiritreturnstothespiritual\\n'\n",
            "            'world,thebodytothebodilyworld.Inthishowever onlythebodies\\n'\n",
            "            'aresubjecttochange. Thespiritual worldisonesinglespiritwho\\n'\n",
            "            'standslikeuntoalightbehindthebodilyworldandwho,whenany\\n'\n",
            "            'singlecreature comesintobeing,shinesthrough itasthrough a\\n'\n",
            "            'window. According tothekindandsizeofthewindow lessormore\\n'\n",
            "            'lightenterstheworld.Thelightitselfhowever remains unchanged.\\n'\n",
            "            'TenyearsagoAldousHuxleypublished aprecious volume\\n'\n",
            "            'whichhecalledThePerennial Philosophy2 andwhichisan\\n'\n",
            "            'anthology fromthemysticsofthemostvarious periodsand\\n'\n",
            "            'themostvariouspeoples. Openitwhereyouwillandyoufind\\n'\n",
            "            'manybeautiful utterances ofasimilarkind.Youarestruckby\\n'\n",
            "            'themiraculous agreement between humans ofdifferent race,\\n'\n",
            "            \"different religion, knowing nothing abouteachother'sexist\\xad\\n\"\n",
            "            '\\n'\n",
            "            'CHAPTER 5\\n'\n",
            "            'ScienceandReligion\\n'\n",
            "            'Cansciencevouchsafe information onmattersofreligion? Can\\n'\n",
            "            'theresultsofscientific research beofanyhelpingaining a\\n'\n",
            "            'reasonable andsatisfactory attitude towards thoseburning\\n'\n",
            "            'questions whichassaileveryone attimes?Someofus,in\\n'\n",
            "            'particular healthyandhappyyouth,succeed inshoving them\\n'\n",
            "            'asideforlongperiods; others,inadvanced age,havesatisfied\\n'\n",
            "            'themselves thatthereisnoanswerandhaveresigned them\\xad\\n'\n",
            "            'selvestogivinguplooking forone,whileothersagainare\\n'\n",
            "            'haunted throughout theirlivesbythisincongruity ofour\\n'\n",
            "            'intellect, haunted alsobyserious fearsraisedbytime\\xad\\n'\n",
            "            'honoured popular superstition. Imeanmainlythequestions\\n'\n",
            "            \"concerned withthe'otherworld',with'lifeafterdeath',and\\n\"\n",
            "            'allthatisconnected withthem.NoticepleasethatIshallnot,\\n'\n",
            "            'ofcourse,attempt toanswerthesequestions, butonlythemuch\\n'\n",
            "            'moremodestone,whether sciencecangiveanyinformation\\n'\n",
            "            'aboutthemoraidour-tomanyofusunavoidable -thinking\\n'\n",
            "            'aboutthem.\\n'\n",
            "            'Tobeginwith,inaveryprimitive wayitcertainly can,and',\n",
            " 'question': 'The provided chat history does not contain any information about '\n",
            "             \"the authors' thoughts on science and religion. Therefore, no \"\n",
            "             'valid standalone question can be generated for querying a Chroma '\n",
            "             'DB vector index based on this conversation.'}\n"
          ]
        }
      ]
    },
    {
      "cell_type": "code",
      "source": [],
      "metadata": {
        "id": "nerNPfEBrEva"
      },
      "execution_count": 59,
      "outputs": []
    },
    {
      "cell_type": "markdown",
      "source": [
        "## Credits\n",
        "\n",
        "references:\n",
        "\n",
        "### Code:\n",
        "\n",
        "\n",
        "https://github.com/jai-llm/RAG_Docs_LLaMA2/blob/main/RAG_HastieBooks_chromaDB_V3.ipynb\n",
        "\n",
        "\n",
        "https://github.com/madhavthaker1/llm/blob/main/rag/conversational_rag.ipynb\n",
        "- https://medium.com/@thakermadhav/part-2-build-a-conversational-rag-with-langchain-and-mistral-7b-6a4ebe497185\n",
        "\n",
        "\n",
        "https://blog.llamaindex.ai/introducing-rags-your-personalized-chatgpt-experience-over-your-data-2b9d140769b1\n",
        "\n",
        "### Data:\n",
        "\n",
        "http://strangebeautiful.com/other-texts/schrodinger-what-is-life-mind-matter-auto-sketches.pdf\n",
        "\n",
        "https://archive.org/details/feynman-lectures-on-physics-volumes-1-2-3-feynman-leighton-and-sands\n",
        "\n",
        "https://karpathy.medium.com/software-2-0-a64152b37c35\n"
      ],
      "metadata": {
        "id": "qP93iY8HikoZ"
      }
    },
    {
      "cell_type": "code",
      "source": [],
      "metadata": {
        "id": "rsEXIqZpAW-M"
      },
      "execution_count": null,
      "outputs": []
    }
  ]
}